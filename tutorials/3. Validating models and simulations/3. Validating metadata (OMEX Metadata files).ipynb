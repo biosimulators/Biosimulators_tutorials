{
 "cells": [
  {
   "cell_type": "markdown",
   "id": "8280eada-36ee-4492-a21c-c8f92a325865",
   "metadata": {},
   "source": [
    "# Validating metadata (OMEX Metadata files)"
   ]
  },
  {
   "cell_type": "markdown",
   "id": "3031e281-ad27-4fc6-8192-c4892e660080",
   "metadata": {},
   "source": [
    "This tutorial illustrates how to validate [OMEX Metadata](https://sys-bio.github.io/libOmexMeta/) files. OMEX Metadata is a format for capturing metadata about COMBINE/OMEX archives and/or individual items inside archives, such as the organism represented by a model, the author of a simulation experiment, or the date when an archive was created. OMEX Metadata represents metadata as sets of [Resource Description Framework (RDF)](https://en.wikipedia.org/wiki/Resource_Description_Framework) [triples](https://en.wikipedia.org/wiki/Semantic_triple) of subjects (e.g., model in an archive), predicates (e.g., organism that the model represents), and objects (e.g., *Escherichia coli*) that represent entities and relationships between them. OMEX Metadata can flexibly capture a broad range of metadata in machine-readable form.\n",
    "\n",
    "BioSimulators supports two minimum information conventions for OMEX Metadata files:\n",
    "* **OMEX Metadata** (`rdf_triples`): No minimum set of information is required. This convention supports anything that can be encoded in RDF. Validation is performed using [libOmexMeta](https://sys-bio.github.io/libOmexMeta/).\n",
    "* **BioSimulations** (`biosimulations`): We recommend using the BioSimulations minimum information convention. This convention imposes additional requirements beyond the OEMX Metadata convention for minimal metdata about a COMBINE archive, including a title, at least one creator, and a license. More information about this convention is available at [https://docs.biosimulations.org](https://docs.biosimulations.org/concepts/conventions/simulation-project-metadata/).\n",
    "\n",
    "<div class=\"alert alert-block alert-info\">\n",
    "    OMEX Metadata files can describe thumbnails for simulation projects. OMEX Metadata files can be validated independently from these thumbnails. However, this will not validate the thumbnails. More comprehensive validation, including related images, is available through the validation of simulation projects (COMBINE/OMEX archives). Please see the <a href=\"4.%20Validating%20simulation%20projects%20(COMBINE-OMEX%20archives).ipynb\">simulation project validation tutorial</a> for more information.\n",
    "</div>\n",
    "\n",
    "<div class=\"alert alert-block alert-info\">\n",
    "    BioSimulations' minimum metadata conventions are required for publication to BioSimulations'. Currently, publication to BioSimulations is also restricted to RDF-XML OMEX Metadata files.\n",
    "</div>"
   ]
  },
  {
   "cell_type": "markdown",
   "id": "ac90de58-7cab-4a12-9491-5cd0b150be85",
   "metadata": {},
   "source": [
    "## 1. Validate an OMEX Metadata file online"
   ]
  },
  {
   "cell_type": "markdown",
   "id": "57d60f19-3ab9-4c0a-a48c-68f5817d787f",
   "metadata": {},
   "source": [
    "The easiest way to validate OMEX Metadata files is to use the web interface at https://run.biosimulations.org. An HTTP API for validating OMEX Metadata files is also available at [https://combine.api.biosimulations.org](https://combine.api.biosimulations.org/)."
   ]
  },
  {
   "cell_type": "markdown",
   "id": "19463a6b-f10e-49ae-8199-d4a602ca1daf",
   "metadata": {
    "tags": []
   },
   "source": [
    "## 2. Validate an OMEX Metadata file with the BioSimulators command-line application"
   ]
  },
  {
   "cell_type": "markdown",
   "id": "d94dc156-7ac7-4af5-9328-40a2305cf00b",
   "metadata": {},
   "source": [
    "First, install [BioSimulators-utils](https://github.com/biosimulators/Biosimulators_utils). Installation instructions are available at [https://docs.biosimulators.org](https://docs.biosimulators.org/Biosimulators_utils). A Docker image with BioSimulators utils and all dependencies is also available ([`ghcr.io/biosimulators/biosimulators`](https://github.com/biosimulators/Biosimulators/pkgs/container/biosimulators))."
   ]
  },
  {
   "cell_type": "code",
   "execution_count": 1,
   "id": "7e481959-a1ac-41b0-ad55-62a78c280963",
   "metadata": {
    "scrolled": true,
    "tags": []
   },
   "outputs": [
    {
     "name": "stdout",
     "output_type": "stream",
     "text": [
      "Invalid -W option ignored: invalid module name: 'biosimulators_utils.warnings'\n",
      "usage: biosimulators-utils [-h] [-d] [-q] [-v]\n",
      "                           {convert,exec,validate-project,validate-metadata,validate-simulation,validate-model,build-project}\n",
      "                           ...\n",
      "\n",
      "Utilities for working with containerized biosimulation tools\n",
      "\n",
      "optional arguments:\n",
      "  -h, --help            show this help message and exit\n",
      "  -d, --debug           full application debug mode\n",
      "  -q, --quiet           suppress all console output\n",
      "  -v, --version         show program's version number and exit\n",
      "\n",
      "sub-commands:\n",
      "  {convert,exec,validate-project,validate-metadata,validate-simulation,validate-model,build-project}\n",
      "    convert             Convert files among formats\n",
      "    exec                Execute a model project (COMBINE/OMEX archive)\n",
      "    validate-project    Validate a model project (COMBINE/OMEX archive)\n",
      "    validate-metadata   Validate metadata (OMEX Metadata file)\n",
      "    validate-simulation\n",
      "                        Validate a simulation experiment (SED-ML file)\n",
      "    validate-model      Validate a model (e.g., CellML, SBML file)\n",
      "    build-project       Build a modeling project\n"
     ]
    }
   ],
   "source": [
    "!biosimulators-utils --help"
   ]
  },
  {
   "cell_type": "code",
   "execution_count": 2,
   "id": "83e3d1ba-e0ec-446c-9305-8de1b5752b04",
   "metadata": {
    "scrolled": true,
    "tags": []
   },
   "outputs": [
    {
     "name": "stdout",
     "output_type": "stream",
     "text": [
      "Invalid -W option ignored: invalid module name: 'biosimulators_utils.warnings'\n",
      "usage: biosimulators-utils validate-metadata [-h] filename\n",
      "\n",
      "Validate metadata (OMEX Metadata file)\n",
      "\n",
      "positional arguments:\n",
      "  filename    Path to an OMEX Metadata file\n",
      "\n",
      "optional arguments:\n",
      "  -h, --help  show this help message and exit\n"
     ]
    }
   ],
   "source": [
    "!biosimulators-utils validate-metadata --help"
   ]
  },
  {
   "cell_type": "markdown",
   "id": "8aa6db11-1ed1-4bf2-83f6-36fc592d2b26",
   "metadata": {},
   "source": [
    "Next, use the command-line program to validate [metadata about a modeling project](../_data/Ciliberto-J-Cell-Biol-2003-morphogenesis-checkpoint-continuous.rdf)."
   ]
  },
  {
   "cell_type": "code",
   "execution_count": 3,
   "id": "f039aa77-a8b4-4136-9c70-54a7ee785d62",
   "metadata": {
    "scrolled": true,
    "tags": []
   },
   "outputs": [
    {
     "name": "stdout",
     "output_type": "stream",
     "text": [
      "Invalid -W option ignored: invalid module name: 'biosimulators_utils.warnings'\n"
     ]
    }
   ],
   "source": [
    "!OMEX_METADATA_SCHEMA=BioSimulations \\\n",
    "    biosimulators-utils validate-metadata \\\n",
    "        ../_data/Ciliberto-J-Cell-Biol-2003-morphogenesis-checkpoint-continuous.rdf"
   ]
  },
  {
   "cell_type": "markdown",
   "id": "a93d20bc-693e-4df0-9688-9f6414c66eae",
   "metadata": {},
   "source": [
    "If the metadata is invalid, a list of errors will be printed to your console."
   ]
  },
  {
   "cell_type": "markdown",
   "id": "b1c6a117-19a8-4a6d-b112-caf2eb7b87b5",
   "metadata": {},
   "source": [
    "## 3. Validate an OMEX Metadata file model programmatically with Python"
   ]
  },
  {
   "cell_type": "markdown",
   "id": "998fd991-6d8b-4f76-9adf-14706170ac82",
   "metadata": {},
   "source": [
    "First, install [BioSimulators-utils](https://github.com/biosimulators/Biosimulators_utils). Installation instructions are available at [https://docs.biosimulators.org](https://docs.biosimulators.org/Biosimulators_utils). Note, BioSimulators-utils must be installed with the installation options for the model languages that you wish to validate. A Docker image with BioSimulators utils and all dependencies is also available ([`ghcr.io/biosimulators/biosimulators`](https://github.com/biosimulators/Biosimulators/pkgs/container/biosimulators))."
   ]
  },
  {
   "cell_type": "markdown",
   "id": "b45e997d-6422-43ea-b9e0-83a567faa22b",
   "metadata": {},
   "source": [
    "Next, import BioSimulators-utils' method for reading OMEX Metadata files."
   ]
  },
  {
   "cell_type": "code",
   "execution_count": 4,
   "id": "f1bde62e-f6b5-48c4-9ea3-a67c7b324418",
   "metadata": {},
   "outputs": [],
   "source": [
    "from biosimulators_utils.config import Config\n",
    "from biosimulators_utils.omex_meta.data_model import OmexMetadataInputFormat, OmexMetadataSchema\n",
    "from biosimulators_utils.omex_meta.io import read_omex_meta_file"
   ]
  },
  {
   "cell_type": "markdown",
   "id": "5aac89d4-af14-414f-a880-a80cc8b1867e",
   "metadata": {},
   "source": [
    "Next, use the `read_omex_meta_file` method to read the OMEX Metadata file. "
   ]
  },
  {
   "cell_type": "code",
   "execution_count": 5,
   "id": "3a12347d-2f34-479d-b8c7-599f3452b3f1",
   "metadata": {
    "scrolled": true,
    "tags": []
   },
   "outputs": [],
   "source": [
    "omex_metadata_filename = '../_data/Ciliberto-J-Cell-Biol-2003-morphogenesis-checkpoint-continuous.rdf'\n",
    "config=Config(\n",
    "    OMEX_METADATA_INPUT_FORMAT=OmexMetadataInputFormat.rdfxml,\n",
    "    OMEX_METADATA_SCHEMA=OmexMetadataSchema.biosimulations,\n",
    ")    \n",
    "metadata, errors, warnings = read_omex_meta_file(omex_metadata_filename, config=config)"
   ]
  },
  {
   "cell_type": "markdown",
   "id": "349b0da7-bec2-4c35-ad5b-078d208c0020",
   "metadata": {},
   "source": [
    "The second and third outputs (`errors` and `warnings`) are nested lists of error and warning messages. Next, use the `flatten_nested_list_of_strings` method to print out human-readable messages."
   ]
  },
  {
   "cell_type": "code",
   "execution_count": 6,
   "id": "1b21938e-49df-4498-98bb-779579b554aa",
   "metadata": {
    "scrolled": true,
    "tags": []
   },
   "outputs": [],
   "source": [
    "from biosimulators_utils.utils.core import flatten_nested_list_of_strings\n",
    "from warnings import warn\n",
    "\n",
    "if warnings:\n",
    "    warn(flatten_nested_list_of_strings(warnings), UserWarning)\n",
    "\n",
    "if errors:\n",
    "    raise ValueError(flatten_nested_list_of_strings(errors))"
   ]
  },
  {
   "cell_type": "markdown",
   "id": "d55292c8-9589-428a-b32c-aa96bf4e306a",
   "metadata": {},
   "source": [
    "The first output of `read_omex_meta_file` (`metadata`) contains the metadata parsed from the OMEX Metadata file. If the BioSimulations schema is used, this is a list of dictionaries that follow this schema. If the RDF schema is used, this is list of tuples."
   ]
  },
  {
   "cell_type": "code",
   "execution_count": 7,
   "id": "fce751db-f743-4010-b9ab-942576550353",
   "metadata": {
    "scrolled": true,
    "tags": []
   },
   "outputs": [
    {
     "data": {
      "text/plain": [
       "[{'uri': '.',\n",
       "  'title': 'Morphogenesis checkpoint in budding yeast (continuous) (Ciliberto et al., J Cell Biol, 2003)',\n",
       "  'abstract': 'Continuous kinetic model of the molecular network that controls Swe1 and the regulation of cyclin-dependent kinase.',\n",
       "  'keywords': ['cell cycle',\n",
       "   'cell division',\n",
       "   'cyclin-dependent kinase',\n",
       "   'morphogenesis',\n",
       "   'signal transduction'],\n",
       "  'description': 'Set of ordinary differential equations that model the molecular network that controls Swe1 and the regulation of cyclin-dependent kinase. The model is based on published observations of budding yeast and analogous control signals in fission yeast. Simulations of the model accurately reproduce the phenotypes of a dozen checkpoint mutants. Among other predictions, the model attributes a new role to Hsl1, a kinase known to play a role in Swe1 degradation: Hsl1 must also be indirectly responsible for potent inhibition of Swe1 activity. The model supports the idea that the morphogenesis checkpoint, like other checkpoints, raises the cell size threshold for progression from one phase of the cell cycle to the next.',\n",
       "  'taxa': [{'uri': 'https://identifiers.org/taxonomy/4896',\n",
       "    'label': 'Schizosaccharomyces pombe'}],\n",
       "  'encodes': [{'uri': 'https://identifiers.org/kegg.pathway:ko04111',\n",
       "    'label': 'cell cycle'},\n",
       "   {'uri': 'https://identifiers.org/GO:0009653',\n",
       "    'label': 'anatomical structure morphogenesis'},\n",
       "   {'uri': 'https://identifiers.org/GO:0044879',\n",
       "    'label': 'mitotic morphogenesis checkpoint signaling'}],\n",
       "  'thumbnails': [],\n",
       "  'sources': [],\n",
       "  'predecessors': [{'uri': 'https://identifiers.org/doi:10.1006/jtbi.2001.2293',\n",
       "    'label': 'John J. Tyson & Bela Novak. Regulation of the eukaryotic cell cycle: molecular antagonism, hysteresis, and irreversible transitions. Journal of Theoretical Biology 210 (2001): 249-263.'},\n",
       "   {'uri': 'https://identifiers.org/doi:10.1091/mbc.11.1.369',\n",
       "    'label': 'Katherine C. Chen, Attila Csikasz-Nagy, Bela Gyorffy, John Val, Bela Novak & John J. Tyson. Kinetic analysis of a molecular model of the budding yeast cell cycle. Mololecular Biology of the Cell 11 (2000): 369-391.'}],\n",
       "  'successors': [],\n",
       "  'see_also': [],\n",
       "  'creators': [{'uri': None, 'label': 'Andrea Ciliberto'},\n",
       "   {'uri': 'https://identifiers.org/orcid:0000-0002-6961-1366',\n",
       "    'label': 'Bela Novak'},\n",
       "   {'uri': 'https://identifiers.org/orcid:0000-0001-7560-6013',\n",
       "    'label': 'John J. Tyson'}],\n",
       "  'contributors': [{'uri': None, 'label': 'Harish Dharuri'},\n",
       "   {'uri': 'https://identifiers.org/orcid:0000-0002-2605-5080',\n",
       "    'label': 'Jonathan Karr'}],\n",
       "  'identifiers': [{'uri': 'https://identifiers.org/biomodels.db:BIOMD0000000297',\n",
       "    'label': 'biomodels.db:BIOMD0000000297'}],\n",
       "  'citations': [{'uri': 'https://identifiers.org/doi:10.1083/jcb.200306139',\n",
       "    'label': 'Andrea Ciliberto, Bela Novak & John J. Tyson. Cell Biology 163, 3 (2003): 1243-1254.'}],\n",
       "  'license': {'uri': 'https://identifiers.org/spdx:CC0-1.0',\n",
       "   'label': 'CC0-1.0'},\n",
       "  'funders': [],\n",
       "  'created': '2003-12-22',\n",
       "  'modified': ['2021-06-26'],\n",
       "  'other': []},\n",
       " {'uri': './Figure3.vg.json',\n",
       "  'title': None,\n",
       "  'abstract': None,\n",
       "  'keywords': [],\n",
       "  'description': None,\n",
       "  'taxa': [],\n",
       "  'encodes': [],\n",
       "  'thumbnails': [],\n",
       "  'sources': [],\n",
       "  'predecessors': [],\n",
       "  'successors': [],\n",
       "  'see_also': [],\n",
       "  'creators': [],\n",
       "  'contributors': [],\n",
       "  'identifiers': [{'uri': 'https://identifiers.org/doi:10.1083/jcb.200306139',\n",
       "    'label': 'Figure 3'}],\n",
       "  'citations': [],\n",
       "  'license': None,\n",
       "  'funders': [],\n",
       "  'created': None,\n",
       "  'modified': [],\n",
       "  'other': []},\n",
       " {'uri': './simulation_1.sedml/Figure_3a',\n",
       "  'title': None,\n",
       "  'abstract': None,\n",
       "  'keywords': [],\n",
       "  'description': None,\n",
       "  'taxa': [],\n",
       "  'encodes': [],\n",
       "  'thumbnails': [],\n",
       "  'sources': [],\n",
       "  'predecessors': [],\n",
       "  'successors': [],\n",
       "  'see_also': [],\n",
       "  'creators': [],\n",
       "  'contributors': [],\n",
       "  'identifiers': [{'uri': 'https://identifiers.org/doi:10.1083/jcb.200306139',\n",
       "    'label': 'Figure 3a'}],\n",
       "  'citations': [],\n",
       "  'license': None,\n",
       "  'funders': [],\n",
       "  'created': None,\n",
       "  'modified': [],\n",
       "  'other': []},\n",
       " {'uri': './simulation_1.sedml/Figure_3b',\n",
       "  'title': None,\n",
       "  'abstract': None,\n",
       "  'keywords': [],\n",
       "  'description': None,\n",
       "  'taxa': [],\n",
       "  'encodes': [],\n",
       "  'thumbnails': [],\n",
       "  'sources': [],\n",
       "  'predecessors': [],\n",
       "  'successors': [],\n",
       "  'see_also': [],\n",
       "  'creators': [],\n",
       "  'contributors': [],\n",
       "  'identifiers': [{'uri': 'https://identifiers.org/doi:10.1083/jcb.200306139',\n",
       "    'label': 'Figure 3b'}],\n",
       "  'citations': [],\n",
       "  'license': None,\n",
       "  'funders': [],\n",
       "  'created': None,\n",
       "  'modified': [],\n",
       "  'other': []},\n",
       " {'uri': './simulation_1.sedml/Figure_3c',\n",
       "  'title': None,\n",
       "  'abstract': None,\n",
       "  'keywords': [],\n",
       "  'description': None,\n",
       "  'taxa': [],\n",
       "  'encodes': [],\n",
       "  'thumbnails': [],\n",
       "  'sources': [],\n",
       "  'predecessors': [],\n",
       "  'successors': [],\n",
       "  'see_also': [],\n",
       "  'creators': [],\n",
       "  'contributors': [],\n",
       "  'identifiers': [{'uri': 'https://identifiers.org/doi:10.1083/jcb.200306139',\n",
       "    'label': 'Figure 3c'}],\n",
       "  'citations': [],\n",
       "  'license': None,\n",
       "  'funders': [],\n",
       "  'created': None,\n",
       "  'modified': [],\n",
       "  'other': []},\n",
       " {'uri': './simulation_1.sedml/Figure_3d',\n",
       "  'title': None,\n",
       "  'abstract': None,\n",
       "  'keywords': [],\n",
       "  'description': None,\n",
       "  'taxa': [],\n",
       "  'encodes': [],\n",
       "  'thumbnails': [],\n",
       "  'sources': [],\n",
       "  'predecessors': [],\n",
       "  'successors': [],\n",
       "  'see_also': [],\n",
       "  'creators': [],\n",
       "  'contributors': [],\n",
       "  'identifiers': [{'uri': 'https://identifiers.org/doi:10.1083/jcb.200306139',\n",
       "    'label': 'Figure 3d'}],\n",
       "  'citations': [],\n",
       "  'license': None,\n",
       "  'funders': [],\n",
       "  'created': None,\n",
       "  'modified': [],\n",
       "  'other': []}]"
      ]
     },
     "execution_count": 7,
     "metadata": {},
     "output_type": "execute_result"
    }
   ],
   "source": [
    "metadata"
   ]
  }
 ],
 "metadata": {
  "kernelspec": {
   "display_name": "Python 3 (ipykernel)",
   "language": "python",
   "name": "python3"
  },
  "language_info": {
   "codemirror_mode": {
    "name": "ipython",
    "version": 3
   },
   "file_extension": ".py",
   "mimetype": "text/x-python",
   "name": "python",
   "nbconvert_exporter": "python",
   "pygments_lexer": "ipython3",
   "version": "3.9.7"
  }
 },
 "nbformat": 4,
 "nbformat_minor": 5
}
