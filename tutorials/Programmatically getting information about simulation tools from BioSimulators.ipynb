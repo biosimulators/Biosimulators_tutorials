{
 "cells": [
  {
   "cell_type": "markdown",
   "id": "0a9798c3-8eb6-4a59-8c43-5b187caa1c48",
   "metadata": {},
   "source": [
    "# Programmatically retrieving information about simulation tools registered with BioSimulators"
   ]
  },
  {
   "cell_type": "markdown",
   "id": "5b0fff9a-3645-42bb-a5fb-ea4a2eb06c97",
   "metadata": {},
   "source": [
    "[BioSimulators](https://biosimulators.org) contains extensive information about simulation software tools. This includes information about the model formats (e.g., CellML, SBML), modeling frameworks (e.g., flux balance, logical, ordinary differential equations), simulation types (e.g., steady-state, time course), and algorithms (e.g., CVODE, SSA) supported by each tool. This information can be helpful for finding an appropriate simulation tool for a specific project and for using simulation tools, especially with the [Simulation Experiment Description Markup Langauge (SED-ML)](http://sed-ml.org/).\n",
    "\n",
    "This information can be retrieved using [BioSimulators' REST API](https://api.biosimulators.org). This API returns information about simulation tools in [JavaScript Object Notation (JSON)](https://www.json.org/) format. The schemas that BioSimulators uses are described in the  [documentation](https://api.biosimulators.org) for the API. The API follows the [OpenAPI](https://swagger.io/specification/) standards.\n",
    "\n",
    "These schemas utilize several ontologies:\n",
    "* Funding agencies: [FunderRegistry](https://www.crossref.org/services/funder-registry/)\n",
    "* Modeling frameworks: [Systems Biology Ontology (SBO)](https://wwwdev.ebi.ac.uk/sbo/)\n",
    "* Modeling formats: [EDAM](https://edamontology.org/page) and [SED-ML model language URNs](https://sed-ml.org/urns.html)\n",
    "* Output dimensions: [Semanticscience Integrated Ontology (SIO)](https://semanticscience.org/)\n",
    "* Outputs of implicit simulation variables: [SED-ML symbol URNs](https://sed-ml.org/urns.html)\n",
    "* Programming languages: [Linguist](https://github.com/github/linguist)\n",
    "* Simulation algorithms, their parameters, and their outputs: [Kinetic Simulation Algorithm Ontology (KiSAO)](https://github.com/SED-ML/KiSAO)\n",
    "* Software licenses: [Software Package Data Exchange (SPDX)](https://spdx.org/licenses)\n",
    "\n",
    "This tutorial illustrates how to programmatically retrieve information about simulation tools for BioSimulators' REST API. Please see the other tools for more information about using simulation tools to execute individual simulations and entire simulation projects."
   ]
  },
  {
   "cell_type": "markdown",
   "id": "ec196405-6401-479a-82d7-09b14fa99cb3",
   "metadata": {},
   "source": [
    "## 1. Retrieve a list of the simulation tools registered with BioSimulators"
   ]
  },
  {
   "cell_type": "markdown",
   "id": "a385edc8-68e1-4a98-9153-167aa6af65e5",
   "metadata": {},
   "source": [
    "Import the [`requests`](https://docs.python-requests.org/en/latest/) package to run HTTP requests to BioSimulators' API."
   ]
  },
  {
   "cell_type": "code",
   "execution_count": 1,
   "id": "1b31615f-5eb4-46fc-843a-bab34c27ce4e",
   "metadata": {},
   "outputs": [],
   "source": [
    "import requests"
   ]
  },
  {
   "cell_type": "markdown",
   "id": "a13c171a-1250-412e-ba96-ccbd00242b1d",
   "metadata": {},
   "source": [
    "The https://api.biosimulators.org/simulators/latest endpoint provides a list of all of the registered simulation tools and information about their most recent versions. Next, use the requests package to query this endpoint."
   ]
  },
  {
   "cell_type": "code",
   "execution_count": 2,
   "id": "2868bbb7-c4af-439f-a795-7a9dbe70b668",
   "metadata": {},
   "outputs": [],
   "source": [
    "response = requests.get('https://api.biosimulators.org/simulators/latest')"
   ]
  },
  {
   "cell_type": "markdown",
   "id": "d776a9df-0030-428d-87ff-050986906f88",
   "metadata": {},
   "source": [
    "Run the `raise_for_status` method to check that the request succeeded."
   ]
  },
  {
   "cell_type": "code",
   "execution_count": 3,
   "id": "996dd393-f25b-43d7-a723-a858e589633a",
   "metadata": {},
   "outputs": [],
   "source": [
    "response.raise_for_status()"
   ]
  },
  {
   "cell_type": "markdown",
   "id": "a9a5ccad-995c-42ad-997b-913185c45011",
   "metadata": {},
   "source": [
    "Call the `json` method to get the data returned by BioSimulators' API."
   ]
  },
  {
   "cell_type": "code",
   "execution_count": 4,
   "id": "c837064c-29c1-417b-bb6f-6f9b87aca572",
   "metadata": {},
   "outputs": [],
   "source": [
    "simulators = {simulator['id']: simulator for simulator in response.json()}"
   ]
  },
  {
   "cell_type": "markdown",
   "id": "383693e9-9fd6-4767-a5e8-8c6ad0c54617",
   "metadata": {},
   "source": [
    "Get one simulation tool."
   ]
  },
  {
   "cell_type": "code",
   "execution_count": 5,
   "id": "7f256fda-2a95-4ae4-b5aa-a7aebce5a18e",
   "metadata": {},
   "outputs": [],
   "source": [
    "simulator = simulators['cobrapy']"
   ]
  },
  {
   "cell_type": "markdown",
   "id": "79db62f1-9cb3-4fe9-9bcd-000fc306f026",
   "metadata": {},
   "source": [
    "Print out information about the tool"
   ]
  },
  {
   "cell_type": "code",
   "execution_count": 6,
   "id": "23fb133a-0753-43c5-9169-b2591c7528a6",
   "metadata": {},
   "outputs": [
    {
     "name": "stdout",
     "output_type": "stream",
     "text": [
      "algorithms:\n",
      "- archiveFormats:\n",
      "  - id: format_3686\n",
      "    namespace: EDAM\n",
      "    supportedFeatures: []\n",
      "    version: null\n",
      "  availableSoftwareInterfaceTypes:\n",
      "  - library\n",
      "  - command-line application\n",
      "  - BioSimulators Docker image\n",
      "  citations:\n",
      "  - authors: \"Jeffrey D. Orth, Ines Thiele & Bernhard \\xD8. Palsson\"\n",
      "    identifiers:\n",
      "    - id: 10.1038/nbt.1614\n",
      "      namespace: doi\n",
      "      url: https://doi.org/10.1038/nbt.1614\n",
      "    issue: '3'\n",
      "    journal: Nature Biotechnology\n",
      "    pages: 245-248\n",
      "    title: What is f\n",
      "...\n"
     ]
    }
   ],
   "source": [
    "import yaml\n",
    "print(yaml.dump(simulator)[0:500] + '\\n...')"
   ]
  },
  {
   "cell_type": "markdown",
   "id": "9bf9b627-a393-4f37-9010-1cf1acb04235",
   "metadata": {},
   "source": [
    "## 2. Find the validated simulation tools that provide Python APIs"
   ]
  },
  {
   "cell_type": "code",
   "execution_count": 7,
   "id": "11e35773-c8bb-4e37-a5bf-8cd699e75c1a",
   "metadata": {},
   "outputs": [
    {
     "name": "stdout",
     "output_type": "stream",
     "text": [
      "['amici', 'bionetgen', 'boolnet', 'cbmpy', 'cobrapy', 'copasi', 'gillespy2', 'ginsim', 'libsbmlsim', 'masspy', 'netpyne', 'neuron', 'opencor', 'pyneuroml', 'pysces', 'rbapy', 'smoldyn', 'tellurium', 'xpp']\n"
     ]
    }
   ],
   "source": [
    "simulators_with_apis = {}\n",
    "for id, simulator in simulators.items():\n",
    "    if simulator['biosimulators']['validated'] and simulator['pythonApi']:\n",
    "        simulators_with_apis[id] = simulator\n",
    "\n",
    "print(sorted(simulators_with_apis.keys()))"
   ]
  },
  {
   "cell_type": "markdown",
   "id": "6c720058-bcc8-4862-85da-0001bdfc2ff4",
   "metadata": {
    "tags": []
   },
   "source": [
    "## 3. Find the simulation tools that support a particular model format (e.g. SBML, [EDAM:format_2585](https://www.ebi.ac.uk/ols/ontologies/edam/terms?iri=http%3A%2F%2Fedamontology.org%2Fformat_2585))"
   ]
  },
  {
   "cell_type": "code",
   "execution_count": 8,
   "id": "7036eb5e-7e00-4e16-81fb-f4e97744f438",
   "metadata": {},
   "outputs": [
    {
     "name": "stdout",
     "output_type": "stream",
     "text": [
      "['amici', 'boolnet', 'cbmpy', 'cobrapy', 'copasi', 'gillespy2', 'ginsim', 'libsbmlsim', 'masspy', 'pysces', 'tellurium']\n"
     ]
    }
   ],
   "source": [
    "sbml_simulators = {}\n",
    "for id, simulator in simulators_with_apis.items():\n",
    "    for algorithm in simulator['algorithms']:\n",
    "        for model_format in algorithm['modelFormats']:\n",
    "            if model_format['id'] == 'format_2585':\n",
    "                sbml_simulators[id] = simulator\n",
    "                \n",
    "print(sorted(sbml_simulators.keys()))"
   ]
  },
  {
   "cell_type": "markdown",
   "id": "6092c2e3-2c09-4667-84a5-c903c1b5e68e",
   "metadata": {},
   "source": [
    "## 4. Find the simulation tools that support a particular modeling framework (e.g. ODE, [SBO:0000293](https://www.ebi.ac.uk/sbo/main/SBO:0000293))"
   ]
  },
  {
   "cell_type": "code",
   "execution_count": 9,
   "id": "2fa6c0eb-8696-4767-82ed-e7536a738e9c",
   "metadata": {},
   "outputs": [
    {
     "name": "stdout",
     "output_type": "stream",
     "text": [
      "['amici', 'bionetgen', 'copasi', 'gillespy2', 'libsbmlsim', 'masspy', 'netpyne', 'neuron', 'opencor', 'pyneuroml', 'pysces', 'tellurium', 'xpp']\n"
     ]
    }
   ],
   "source": [
    "ode_simulators = {}\n",
    "for id, simulator in simulators_with_apis.items():\n",
    "    for algorithm in simulator['algorithms']:\n",
    "        for model_format in algorithm['modelingFrameworks']:\n",
    "            if model_format['id'] == 'SBO_0000293':\n",
    "                ode_simulators[id] = simulator\n",
    "                \n",
    "print(sorted(ode_simulators.keys()))"
   ]
  },
  {
   "cell_type": "markdown",
   "id": "49f0de57-98f9-49b8-b364-f66f3a4026bb",
   "metadata": {
    "tags": []
   },
   "source": [
    "## 5. Find the simulation tools that support a particular type of simulation or analysis (e.g. SED-ML uniform time course, `SedUniformTimeCourseSimulation`)"
   ]
  },
  {
   "cell_type": "code",
   "execution_count": 10,
   "id": "5f4cc31e-460a-4cf5-8dc3-f4c2238820da",
   "metadata": {},
   "outputs": [
    {
     "name": "stdout",
     "output_type": "stream",
     "text": [
      "['amici', 'bionetgen', 'boolnet', 'copasi', 'gillespy2', 'ginsim', 'libsbmlsim', 'masspy', 'netpyne', 'neuron', 'opencor', 'pyneuroml', 'pysces', 'smoldyn', 'tellurium', 'xpp']\n"
     ]
    }
   ],
   "source": [
    "time_course_simulators = {}\n",
    "for id, simulator in simulators_with_apis.items():\n",
    "    for algorithm in simulator['algorithms']:\n",
    "        if 'SedUniformTimeCourseSimulation' in algorithm['simulationTypes']:\n",
    "            time_course_simulators[id] = simulator\n",
    "                \n",
    "print(sorted(time_course_simulators.keys()))"
   ]
  },
  {
   "cell_type": "markdown",
   "id": "73a3fee5-140d-444f-b492-a88613d642fe",
   "metadata": {},
   "source": [
    "## 6. Find the simulation tools that support a particular algorithm (e.g. CVODE, [KISAO_0000019](https://www.ebi.ac.uk/ols/ontologies/kisao/terms?iri=http%3A%2F%2Fwww.biomodels.net%2Fkisao%2FKISAO%23KISAO_0000019))"
   ]
  },
  {
   "cell_type": "code",
   "execution_count": 11,
   "id": "4ba94ba6-dcb4-4f3b-9b9a-8ee843d40b5f",
   "metadata": {},
   "outputs": [
    {
     "name": "stdout",
     "output_type": "stream",
     "text": [
      "['bionetgen', 'masspy', 'netpyne', 'neuron', 'opencor', 'pysces', 'tellurium', 'xpp']\n"
     ]
    }
   ],
   "source": [
    "cvode_simulators = {}\n",
    "for id, simulator in simulators_with_apis.items():\n",
    "    for algorithm in simulator['algorithms']:\n",
    "        if algorithm['kisaoId']['id'] == 'KISAO_0000019':\n",
    "            cvode_simulators[id] = simulator\n",
    "                \n",
    "print(sorted(cvode_simulators.keys()))"
   ]
  },
  {
   "cell_type": "markdown",
   "id": "7e2e7dc6-5541-42c1-ba97-a10d38ad1846",
   "metadata": {},
   "source": [
    "## 7. Get a specific simulation tool such as [COPASI](http://copasi.org/)"
   ]
  },
  {
   "cell_type": "code",
   "execution_count": 12,
   "id": "f7573df1-5741-421c-a85d-ebd889e9d9c1",
   "metadata": {},
   "outputs": [],
   "source": [
    "copasi = simulators['copasi']"
   ]
  },
  {
   "cell_type": "markdown",
   "id": "ec1128be-c147-452a-8174-95bb401a9723",
   "metadata": {},
   "source": [
    "## 8. Get the algorithms implemented by the tool"
   ]
  },
  {
   "cell_type": "code",
   "execution_count": 13,
   "id": "83014718-c6ef-4990-83fe-ac86f16d7b31",
   "metadata": {},
   "outputs": [
    {
     "name": "stdout",
     "output_type": "stream",
     "text": [
      "['KISAO_0000027', 'KISAO_0000029', 'KISAO_0000039', 'KISAO_0000048', 'KISAO_0000304', 'KISAO_0000560', 'KISAO_0000561', 'KISAO_0000562', 'KISAO_0000563', 'KISAO_0000566']\n"
     ]
    }
   ],
   "source": [
    "algorithms = {}\n",
    "for algorithm in copasi['algorithms']:\n",
    "    kisao_id = algorithm['kisaoId']['id']\n",
    "    algorithms[kisao_id] = algorithm\n",
    "print(sorted(algorithms.keys()))"
   ]
  },
  {
   "cell_type": "markdown",
   "id": "00b2131f-c16c-4ef3-9a68-b4501770861a",
   "metadata": {},
   "source": [
    "## 9. Get a specific algorithm implemented by the tool, such as LSODA, [KISAO_0000560](https://www.ebi.ac.uk/ols/ontologies/kisao/terms?iri=http%3A%2F%2Fwww.biomodels.net%2Fkisao%2FKISAO%23KISAO_0000560))"
   ]
  },
  {
   "cell_type": "code",
   "execution_count": 14,
   "id": "f3bbcecc-c848-474d-a0df-d04a42ac88d5",
   "metadata": {},
   "outputs": [],
   "source": [
    "lsoda = algorithms['KISAO_0000560']"
   ]
  },
  {
   "cell_type": "markdown",
   "id": "ffa1f5c4-cb03-4288-b556-b15707b72228",
   "metadata": {},
   "source": [
    "## 10. Get additional information about the algorithm from the KiSAO ontology"
   ]
  },
  {
   "cell_type": "code",
   "execution_count": 15,
   "id": "1d202a71-bdc0-4ed3-9a43-3f549ca8793c",
   "metadata": {},
   "outputs": [
    {
     "name": "stdout",
     "output_type": "stream",
     "text": [
      "LSODA/LSODAR hybrid method\n"
     ]
    }
   ],
   "source": [
    "from kisao import Kisao\n",
    "kisao = Kisao()\n",
    "term = kisao.get_term(lsoda['kisaoId']['id'])\n",
    "print(term.name)"
   ]
  },
  {
   "cell_type": "markdown",
   "id": "eaad9aca-89aa-4d8b-902a-3ef3c9013caa",
   "metadata": {},
   "source": [
    "## 11. Get the parameters of the algorithm and their names, data types, and default values"
   ]
  },
  {
   "cell_type": "code",
   "execution_count": 16,
   "id": "0dd27b12-ccee-45de-8d25-f226bd0d93f4",
   "metadata": {},
   "outputs": [
    {
     "name": "stdout",
     "output_type": "stream",
     "text": [
      "KISAO_0000209:\n",
      "  name: relative tolerance\n",
      "  type: float\n",
      "  value: 1e-6\n",
      "KISAO_0000211:\n",
      "  name: absolute tolerance\n",
      "  type: float\n",
      "  value: 1e-12\n",
      "KISAO_0000216:\n",
      "  name: use reduced model\n",
      "  type: boolean\n",
      "  value: 'true'\n",
      "KISAO_0000415:\n",
      "  name: maximum number of steps\n",
      "  type: integer\n",
      "  value: '10000'\n",
      "KISAO_0000467:\n",
      "  name: maximum step size\n",
      "  type: float\n",
      "  value: null\n",
      "\n"
     ]
    }
   ],
   "source": [
    "parameters = {}\n",
    "for parameter in lsoda['parameters']:\n",
    "    parameters[parameter['kisaoId']['id']] = {\n",
    "        'name': kisao.get_term(parameter['kisaoId']['id']).name,\n",
    "        'type': parameter['type'],\n",
    "        'value': parameter['value'],\n",
    "    }\n",
    "print(yaml.dump(parameters))"
   ]
  },
  {
   "cell_type": "markdown",
   "id": "43cbf953-703c-46f4-83dd-f3efdf0212e8",
   "metadata": {},
   "source": [
    "## 12. Get the model changes supported by the implementation of the algorithm by the tool"
   ]
  },
  {
   "cell_type": "code",
   "execution_count": 17,
   "id": "ac21ff08-55ad-4d89-82a7-05ad257bc1cb",
   "metadata": {},
   "outputs": [
    {
     "name": "stdout",
     "output_type": "stream",
     "text": [
      "- name: Change component attributes\n",
      "  symbol: null\n",
      "  target:\n",
      "    grammar: XPath\n",
      "    value: //*/@*\n",
      "  types:\n",
      "  - SedAttributeModelChange\n",
      "  - SedComputeAttributeChangeModelChange\n",
      "  - SedSetValueAttributeModelChange\n",
      "- name: Add components\n",
      "  symbol: null\n",
      "  target:\n",
      "    grammar: XPath\n",
      "    value: //*\n",
      "  types:\n",
      "  - SedAddXmlModelChange\n",
      "- name: Remove components\n",
      "  symbol: null\n",
      "  target:\n",
      "    grammar: XPath\n",
      "    value: //*\n",
      "  types:\n",
      "  - SedRemoveXmlModelChange\n",
      "- name: Change components\n",
      "  symbol: null\n",
      "  target:\n",
      "    grammar: XPath\n",
      "    value: //*\n",
      "  types:\n",
      "  - SedChangeXmlModelChange\n",
      "\n"
     ]
    }
   ],
   "source": [
    "print(yaml.dump(algorithm['modelChangePatterns']))"
   ]
  },
  {
   "cell_type": "markdown",
   "id": "6d502d07-5e1e-4b0f-9100-bd22739a9392",
   "metadata": {},
   "source": [
    "## 13. Get the observables supported by the implementation of the algorithm by the tool"
   ]
  },
  {
   "cell_type": "code",
   "execution_count": 18,
   "id": "7945a2ac-90d7-4a9a-b9d6-d3f7daa859ed",
   "metadata": {},
   "outputs": [
    {
     "name": "stdout",
     "output_type": "stream",
     "text": [
      "- name: time\n",
      "  symbol:\n",
      "    namespace: urn:sedml:symbol\n",
      "    value: time\n",
      "  target: null\n",
      "- name: species concentrations\n",
      "  symbol: null\n",
      "  target:\n",
      "    grammar: XPath\n",
      "    value: /sbml:sbml/sbml:model/sbml:listOfSpecies/sbml:species\n",
      "- name: reaction fluxes\n",
      "  symbol: null\n",
      "  target:\n",
      "    grammar: XPath\n",
      "    value: /sbml:sbml/sbml:model/sbml:listOfReactions/sbml:reaction\n",
      "- name: compartment volumes\n",
      "  symbol: null\n",
      "  target:\n",
      "    grammar: XPath\n",
      "    value: /sbml:sbml/sbml:model/sbml:listOfCompartments/sbml:compartment\n",
      "- name: parameter values\n",
      "  symbol: null\n",
      "  target:\n",
      "    grammar: XPath\n",
      "    value: /sbml:sbml/sbml:model/sbml:listOfParameters/sbml:parameter\n",
      "\n"
     ]
    }
   ],
   "source": [
    "print(yaml.dump(algorithm['outputVariablePatterns']))"
   ]
  },
  {
   "cell_type": "markdown",
   "id": "89ed5856-8c75-4687-86ba-254e8c0f138e",
   "metadata": {},
   "source": [
    "## 14. Get more information about model formats and modeling frameworks"
   ]
  },
  {
   "cell_type": "markdown",
   "id": "fca3c056-f55a-4152-8ed8-f1ae7bfb512d",
   "metadata": {},
   "source": [
    "Information about all of the ontologies used by BioSimulators is available from [BioSimulations' ontology REST API](https://ontology.api.biosimulations.org/). Documentation is available inline at this URL. The API can be queried as illustrated below to retrieve information about specific terms, such as the Systems Biology Markup Language (SBML) ([EDAM:format_2585](https://www.ebi.ac.uk/ols/ontologies/edam/terms?iri=http%3A%2F%2Fedamontology.org%2Fformat_2585)) and ordinary differential equations (ODES) ([SBO_0000293](https://www.ebi.ac.uk/ols/ontologies/sbo/terms?iri=http%3A%2F%2Fbiomodels.net%2FSBO%2FSBO_0000293))."
   ]
  },
  {
   "cell_type": "code",
   "execution_count": 19,
   "id": "5ea13527-243f-4a39-be3d-5922bf160df9",
   "metadata": {},
   "outputs": [
    {
     "name": "stdout",
     "output_type": "stream",
     "text": [
      "description: Systems Biology Markup Language (SBML), the standard XML format for models\n",
      "  of biological processes such as for example metabolism, cell signaling, and gene\n",
      "  regulation.\n",
      "id: format_2585\n",
      "iri: http://edamontology.org/format_2585\n",
      "moreInfoUrl: http://sbml.org\n",
      "name: SBML\n",
      "namespace: EDAM\n",
      "url: https://www.ebi.ac.uk/ols/ontologies/edam/terms?iri=http%3A%2F%2Fedamontology.org%2Fformat_2585\n",
      "\n"
     ]
    }
   ],
   "source": [
    "response = requests.get('https://ontology.api.biosimulations.org/EDAM/format_2585')\n",
    "response.raise_for_status()\n",
    "print(yaml.dump(response.json()))"
   ]
  },
  {
   "cell_type": "code",
   "execution_count": 20,
   "id": "6fbd039f-13b1-4788-b683-c4b7344ab1c1",
   "metadata": {},
   "outputs": [
    {
     "name": "stdout",
     "output_type": "stream",
     "text": [
      "description: 'Modelling approach where the quantities of participants are considered\n",
      "  continuous, and represented by real values. The associated simulation methods make\n",
      "  use of differential equations. The models do not take into account the distribution\n",
      "  of the entities and describe only the temporal fluxes.  '\n",
      "id: SBO_0000293\n",
      "iri: http://biomodels.net/SBO/SBO_0000293\n",
      "moreInfoUrl: null\n",
      "name: non-spatial continuous framework\n",
      "namespace: SBO\n",
      "url: https://www.ebi.ac.uk/ols/ontologies/sbo/terms?iri=http%3A%2F%2Fbiomodels.net%2FSBO%2FSBO_0000293\n",
      "\n"
     ]
    }
   ],
   "source": [
    "response = requests.get('https://ontology.api.biosimulations.org/SBO/SBO_0000293')\n",
    "response.raise_for_status()\n",
    "print(yaml.dump(response.json()))"
   ]
  },
  {
   "cell_type": "raw",
   "id": "543cf71f-78bf-4a4d-ac32-bfabf6283a57",
   "metadata": {
    "tags": []
   },
   "source": [
    "## 15. Get the Python module for the API for the simulation tool"
   ]
  },
  {
   "cell_type": "code",
   "execution_count": 21,
   "id": "4f155bbc-ede1-442a-85de-0d8a0b0fc56a",
   "metadata": {},
   "outputs": [],
   "source": [
    "import importlib\n",
    "api = importlib.import_module(copasi['pythonApi']['module'])"
   ]
  },
  {
   "cell_type": "markdown",
   "id": "c2b5e076-5be1-4bbd-be7b-5dba1ff30f95",
   "metadata": {
    "tags": []
   },
   "source": [
    "## 16. Use the API for the simulator to get its version and the available version of the tool"
   ]
  },
  {
   "cell_type": "code",
   "execution_count": 22,
   "id": "29c37a09-e629-468e-abcf-9efa5f3971ef",
   "metadata": {},
   "outputs": [
    {
     "name": "stdout",
     "output_type": "stream",
     "text": [
      "0.1.31\n",
      "4.34.251\n"
     ]
    }
   ],
   "source": [
    "print(api.__version__)\n",
    "print(api.get_simulator_version())"
   ]
  }
 ],
 "metadata": {
  "kernelspec": {
   "display_name": "Python 3 (ipykernel)",
   "language": "python",
   "name": "python3"
  },
  "language_info": {
   "codemirror_mode": {
    "name": "ipython",
    "version": 3
   },
   "file_extension": ".py",
   "mimetype": "text/x-python",
   "name": "python",
   "nbconvert_exporter": "python",
   "pygments_lexer": "ipython3",
   "version": "3.9.7"
  }
 },
 "nbformat": 4,
 "nbformat_minor": 5
}
