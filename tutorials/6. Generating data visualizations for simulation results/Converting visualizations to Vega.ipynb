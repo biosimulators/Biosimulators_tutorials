{
 "cells": [
  {
   "cell_type": "markdown",
   "id": "ce8cad2d-f2a8-4337-83ea-886e1e4e2755",
   "metadata": {},
   "source": [
    "# Converting model visualizations into data visualization for simulation results"
   ]
  },
  {
   "cell_type": "markdown",
   "id": "d8aef6cc-e56f-4c90-96a8-bc736daf994a",
   "metadata": {},
   "source": [
    "This tutorial illustrates several utilities for converting static visualizations of the structures of models into dynamic, interactive visualizations of simulation results. BioSimulations enables investigators to use [Vega](https://vega.github.io/vega/) to create dynamic, interactive visualizations of simulation results by combining visual marks encoded with Vega with simulation results generated with BioSimulations. Vega is a powerful and flexible grammar for data visualizations which enables investigators to describe basic statistical charts, as well as custom domain-specific diagrams.\n",
    "\n",
    "To help investigators utilize Vega, BioSimulators-utils provides several utilities for converting static visualizations of the structures of models into Vega data visualizations. These converters are available as command-line programs. Additional options are available through their associated Python APIs.\n",
    "\n",
    "Converters are currently available for three formats:\n",
    "* [Escher metabolic flux maps](https://escher.github.io/)\n",
    "* [GINsim regulatory network diagrams](http://ginsim.org/)\n",
    "* [Systems Biology Graphical Notation (SBGN) Process Description (PD) maps](https://sbgn.github.io/)\n",
    "\n",
    "<div class=\"alert alert-block alert-info\">\n",
    "    The SBGN converter is still in development. The converter presently only supports a subset of glyphs.\n",
    "</div>"
   ]
  },
  {
   "cell_type": "markdown",
   "id": "9eb6f70a-c8cc-4aa0-a977-c8b8e4114d2e",
   "metadata": {},
   "source": [
    "## 1. Install the BioSimulators-utils command-line application and Python API"
   ]
  },
  {
   "cell_type": "markdown",
   "id": "542d568a-0c85-45f1-9129-8e3731ecbf87",
   "metadata": {},
   "source": [
    "First, install [BioSimulators-utils](https://github.com/biosimulators/Biosimulators_utils). Installation instructions are available at [https://docs.biosimulators.org](https://docs.biosimulators.org/Biosimulators_utils). A Docker image with BioSimulators utils and all dependencies is also available ([`ghcr.io/biosimulators/biosimulators`](https://github.com/biosimulators/Biosimulators/pkgs/container/biosimulators)).\n",
    "\n",
    "<div class=\"alert alert-block alert-info\">\n",
    "    To use the Escher converter, BioSimulators utils must be installed with the <code>Escher</code> option.\n",
    "</div>\n",
    "\n",
    "<div class=\"alert alert-block alert-info\">\n",
    "    The Escher converter is not available in this environment because its requirements conflict with that of MASSpy and tellurium. The converter can be used in environments which don't require MASSpy or tellurium.\n",
    "</div>"
   ]
  },
  {
   "cell_type": "markdown",
   "id": "4b8e0f70-ff5d-4d24-a01b-426fb46f5ee5",
   "metadata": {
    "tags": []
   },
   "source": [
    "## 2. Convert an Escher metabolic flux map into a Vega data visualization"
   ]
  },
  {
   "cell_type": "markdown",
   "id": "f2e862c2-c6d1-4f3a-9bd5-6546c15b174e",
   "metadata": {},
   "source": [
    "Inline help for the Escher converter is available by running the program with the `--help` option."
   ]
  },
  {
   "cell_type": "code",
   "execution_count": 1,
   "id": "d627f598-eeb1-49a4-a739-fd6c8dc19e5e",
   "metadata": {
    "scrolled": true,
    "tags": []
   },
   "outputs": [
    {
     "name": "stdout",
     "output_type": "stream",
     "text": [
      "Invalid -W option ignored: invalid module name: 'biosimulators_utils.warnings'\n",
      "usage: biosimulators-utils convert escher-to-vega [-h]\n",
      "                                                  [--data-sedml DATA_SEDML]\n",
      "                                                  [--data-file DATA_FILE]\n",
      "                                                  [--data-url DATA_URL]\n",
      "                                                  escher-file vega-file\n",
      "\n",
      "Convert an Escher map of a metabolic network to the Vega data visualization format\n",
      "\n",
      "positional arguments:\n",
      "  escher-file           Path to the configuration of an Escher map\n",
      "  vega-file             Path to save the diagram in Vega format\n",
      "\n",
      "optional arguments:\n",
      "  -h, --help            show this help message and exit\n",
      "  --data-sedml DATA_SEDML\n",
      "                        Id of a report in a SED-ML file and the location of\n",
      "                        the SED-ML file in its parent COMBINE archive which\n",
      "                        can record the predicted flux of each reaction (e.g.,\n",
      "                        `path/to/simulation.sedml/Table_1`)\n",
      "  --data-file DATA_FILE\n",
      "                        Path to a JSON file which represents a list of\n",
      "                        dictionaries, each which have two keys `label` and\n",
      "                        `values` whose values are the ids of reactions and\n",
      "                        arrays of length 1 of their predicted fluxes\n",
      "  --data-url DATA_URL   URL for a JSON file which represents a list of\n",
      "                        dictionaries, each which have two keys `label` and\n",
      "                        `values` whose values are the ids of reactions and\n",
      "                        arrays of length 1 of their predicted fluxes\n"
     ]
    }
   ],
   "source": [
    "!biosimulators-utils convert escher-to-vega --help"
   ]
  },
  {
   "cell_type": "markdown",
   "id": "93f44883-f394-4e9f-b487-dd3391ebc3c4",
   "metadata": {},
   "source": [
    "Make a directory to store the Vega file."
   ]
  },
  {
   "cell_type": "code",
   "execution_count": 2,
   "id": "656ed521-bf71-4488-8f3d-731fa4ea276d",
   "metadata": {},
   "outputs": [],
   "source": [
    "import os\n",
    "if not os.path.isdir('tmp'):\n",
    "    os.mkdir('tmp')"
   ]
  },
  {
   "cell_type": "markdown",
   "id": "010c88f4-6ebe-4e08-bea2-2e004240ce25",
   "metadata": {},
   "source": [
    "Use the command-line program to convert the [Escher map](../_data/Escherichia-coli-core-metabolism.escher.json) to a Vega file. To use Vega with the outputs of SED-ML files in COMBINE archives, use the `--data-sedml` argument to indicate the id of the SED report (e.g, `location/in/archive/of/simulation.sedml/id_of_report`) which will contain the data that should be mapped into the Vega visualization."
   ]
  },
  {
   "cell_type": "raw",
   "id": "43b01845-e4f4-421b-b5c2-0d2623cc2b67",
   "metadata": {
    "tags": []
   },
   "source": [
    "! pip install biosimulators-utils[escher]\n",
    "! biosimulators-utils convert escher-to-vega \\\n",
    "    --data-sedml location/in/archive/of/simulation.sedml/id_of_report \\\n",
    "    ../_data/Escherichia-coli-core-metabolism.escher.json \\\n",
    "    tmp/Escherichia-coli-core-metabolism.vg.json"
   ]
  },
  {
   "cell_type": "markdown",
   "id": "bd30b9f1-daca-496f-b9ac-6e312a8bae16",
   "metadata": {},
   "source": [
    "<div class=\"alert alert-block alert-info\">\n",
    "    Note, the produced file will need to be further processed by BioSimulations (to combine the diagram with simulation results). A complete Vega file is available <a href=\"../_data/Escherichia-coli-core-metabolism.vg.json\">here</a>.\n",
    "</div>"
   ]
  },
  {
   "cell_type": "markdown",
   "id": "b27540c2-6273-40b5-981c-91f011e77c6d",
   "metadata": {},
   "source": [
    "## 3. Convert a GINsim regulatory network diagram into a Vega data visualization"
   ]
  },
  {
   "cell_type": "markdown",
   "id": "bf709b8e-9d83-4d9b-8a44-1b6a07a7097a",
   "metadata": {},
   "source": [
    "Inline help for the GINsim converter is available by running the program with the `--help` option."
   ]
  },
  {
   "cell_type": "code",
   "execution_count": 3,
   "id": "26e906d1-261e-45c3-b4de-349343efee0f",
   "metadata": {
    "scrolled": true,
    "tags": []
   },
   "outputs": [
    {
     "name": "stdout",
     "output_type": "stream",
     "text": [
      "Invalid -W option ignored: invalid module name: 'biosimulators_utils.warnings'\n",
      "usage: biosimulators-utils convert ginml-to-vega [-h] [--data-sedml]\n",
      "                                                 [--data-file DATA_FILE]\n",
      "                                                 [--data-url DATA_URL]\n",
      "                                                 ginml-file vega-file\n",
      "\n",
      "Convert a GINML activity flow diagram to the Vega data visualization format\n",
      "\n",
      "positional arguments:\n",
      "  ginml-file            Path to the GINML file\n",
      "  vega-file             Path to save the diagram in Vega format\n",
      "\n",
      "optional arguments:\n",
      "  -h, --help            show this help message and exit\n",
      "  --data-sedml          Set to indicate that the predicted value of each node\n",
      "                        should be read from the reports of the SED-ML files in\n",
      "                        a COMBINE archive\n",
      "  --data-file DATA_FILE\n",
      "                        Path to a JSON file which represents a list of\n",
      "                        dictionaries, each which have two keys `label` and\n",
      "                        `values` whose values are the ids of nodes and arrays\n",
      "                        of their predicted values\n",
      "  --data-url DATA_URL   URL for a JSON file which represents a list of\n",
      "                        dictionaries, each which have two keys `label` and\n",
      "                        `values` whose values are the ids of nodes and arrays\n",
      "                        of their predicted values\n"
     ]
    }
   ],
   "source": [
    "!biosimulators-utils convert ginml-to-vega --help"
   ]
  },
  {
   "cell_type": "markdown",
   "id": "d4717522-06ae-443a-a016-3bd82e58aa06",
   "metadata": {},
   "source": [
    "Make a directory to store the Vega file."
   ]
  },
  {
   "cell_type": "code",
   "execution_count": 4,
   "id": "f53b39b2-9e14-48b2-8755-360e1254cb19",
   "metadata": {},
   "outputs": [],
   "source": [
    "import os\n",
    "if not os.path.isdir('tmp'):\n",
    "    os.mkdir('tmp')"
   ]
  },
  {
   "cell_type": "markdown",
   "id": "1a68737a-df29-4098-8856-77c1b7a101c6",
   "metadata": {},
   "source": [
    "Use the command-line program to convert the [GINsim diagram](../_data/Irons-J-Theor-Biol-2009-yeast-cell-cycle.activity-flow-diagram.ginml) to a Vega file. To use Vega with the outputs of SED-ML files in COMBINE archives, use the `--data-sedml` argument to indicate that the outputs of all SED-ML reports should be mapped into the Vega visualization."
   ]
  },
  {
   "cell_type": "code",
   "execution_count": 5,
   "id": "1206523c-f27d-485e-b713-c9dc33f841a9",
   "metadata": {},
   "outputs": [
    {
     "name": "stdout",
     "output_type": "stream",
     "text": [
      "Invalid -W option ignored: invalid module name: 'biosimulators_utils.warnings'\n"
     ]
    }
   ],
   "source": [
    "!biosimulators-utils convert ginml-to-vega \\\n",
    "    --data-sedml \\\n",
    "    ../_data/Irons-J-Theor-Biol-2009-yeast-cell-cycle.activity-flow-diagram.ginml \\\n",
    "    tmp/Irons-J-Theor-Biol-2009-yeast-cell-cycle.activity-flow-diagram.vg.json"
   ]
  },
  {
   "cell_type": "markdown",
   "id": "379d9cf0-bc5f-40b6-95a7-fccb7e2bd1ea",
   "metadata": {},
   "source": [
    "<div class=\"alert alert-block alert-info\">\n",
    "    Note, the produced file will need to be further processed by BioSimulations (to combine the diagram with simulation results). A complete Vega file is available <a href=\"../_data/Irons-J-Theor-Biol-2009-yeast-cell-cycle.activity-flow-diagram.vg.json\">here</a>.\n",
    "</div>"
   ]
  },
  {
   "cell_type": "markdown",
   "id": "f9692242-f530-4aaf-990e-4874d1fba069",
   "metadata": {},
   "source": [
    "## 4. Convert a Systems Biology Graphical Notation (SBGN) Process Description (PD) map to a Vega data visualization"
   ]
  },
  {
   "cell_type": "markdown",
   "id": "8f8960a6-2c33-4091-9086-fb8a83a3bd9c",
   "metadata": {},
   "source": [
    "Inline help for the SBGN converter is available by running the program with the `--help` option."
   ]
  },
  {
   "cell_type": "code",
   "execution_count": 6,
   "id": "b516f22d-7eaa-4530-8804-7bb5c8b440b2",
   "metadata": {
    "scrolled": true,
    "tags": []
   },
   "outputs": [
    {
     "name": "stdout",
     "output_type": "stream",
     "text": [
      "Invalid -W option ignored: invalid module name: 'biosimulators_utils.warnings'\n",
      "usage: biosimulators-utils convert sbgn-to-vega [-h] [--data-sedml DATA_SEDML]\n",
      "                                                [--data-file DATA_FILE]\n",
      "                                                [--data-url DATA_URL]\n",
      "                                                sbgn-file vega-file\n",
      "\n",
      "Convert a SBGN process description map to the Vega data visualization format\n",
      "\n",
      "positional arguments:\n",
      "  sbgn-file             Path to the SBGN file\n",
      "  vega-file             Path to save the diagram in Vega format\n",
      "\n",
      "optional arguments:\n",
      "  -h, --help            show this help message and exit\n",
      "  --data-sedml DATA_SEDML\n",
      "                        Id of a report in a SED-ML file and the location of\n",
      "                        the SED-ML file in its parent COMBINE archive which\n",
      "                        can record the predicted concentration of each glyph\n",
      "                        (e.g., `path/to/simulation.sedml/Table_1`)\n",
      "  --data-file DATA_FILE\n",
      "                        Path to a JSON file which represents a list of\n",
      "                        dictionaries, each which have two keys `label` and\n",
      "                        `values` whose values are the labels of glyphs and\n",
      "                        arrays of their predicted concentrations\n",
      "  --data-url DATA_URL   URL for a JSON file which represents a list of\n",
      "                        dictionaries, each which have two keys `label` and\n",
      "                        `values` whose values are the labels of glyphs and\n",
      "                        arrays of their predicted concentrations\n"
     ]
    }
   ],
   "source": [
    "!biosimulators-utils convert sbgn-to-vega --help"
   ]
  },
  {
   "cell_type": "markdown",
   "id": "4557b9bc-c9d4-4a58-af6f-6261b2c4bdf3",
   "metadata": {},
   "source": [
    "Make a directory to store the Vega file."
   ]
  },
  {
   "cell_type": "code",
   "execution_count": 7,
   "id": "0438cff2-e690-47b3-98b9-408f501892eb",
   "metadata": {},
   "outputs": [],
   "source": [
    "import os\n",
    "if not os.path.isdir('tmp'):\n",
    "    os.mkdir('tmp')"
   ]
  },
  {
   "cell_type": "markdown",
   "id": "1ddecded-7230-4c8f-af96-06df2788ed8c",
   "metadata": {},
   "source": [
    "Use the command-line program to convert the [SBGN map](../_data/Elowitz-Nature-2000-Repressilator.process-description-map.sbgn) to a Vega file. To use Vega with the outputs of SED-ML files in COMBINE archives, use the `--data-sedml` argument to indicate the id of the SED report (e.g, `location/in/archive/of/simulation.sedml/id_of_report`) which will contain the data that should be mapped into the Vega visualization."
   ]
  },
  {
   "cell_type": "code",
   "execution_count": 8,
   "id": "97d30e2f-56e2-4879-bc44-469c6829e251",
   "metadata": {},
   "outputs": [
    {
     "name": "stdout",
     "output_type": "stream",
     "text": [
      "Invalid -W option ignored: invalid module name: 'biosimulators_utils.warnings'\n"
     ]
    }
   ],
   "source": [
    "!biosimulators-utils convert sbgn-to-vega \\\n",
    "    --data-sedml location/of/simulation.sedml/id_of_report \\\n",
    "    ../_data/Elowitz-Nature-2000-Repressilator.process-description-map.sbgn \\\n",
    "    tmp/Elowitz-Nature-2000-Repressilator.process-description-map.vg.json"
   ]
  },
  {
   "cell_type": "markdown",
   "id": "353945fc-f03e-4412-9910-4be9f293207e",
   "metadata": {},
   "source": [
    "<div class=\"alert alert-block alert-info\">\n",
    "    Note, the produced file will need to be further processed by BioSimulations (to combine the diagram with simulation results). A complete Vega file is available <a href=\"../_data/Elowitz-Nature-2000-Repressilator.process-description-map.vg.json\">here</a>.\n",
    "</div>"
   ]
  }
 ],
 "metadata": {
  "kernelspec": {
   "display_name": "Python 3 (ipykernel)",
   "language": "python",
   "name": "python3"
  },
  "language_info": {
   "codemirror_mode": {
    "name": "ipython",
    "version": 3
   },
   "file_extension": ".py",
   "mimetype": "text/x-python",
   "name": "python",
   "nbconvert_exporter": "python",
   "pygments_lexer": "ipython3",
   "version": "3.9.7"
  }
 },
 "nbformat": 4,
 "nbformat_minor": 5
}
