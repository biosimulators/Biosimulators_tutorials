{
 "cells": [
  {
   "cell_type": "markdown",
   "id": "a52cd0eb-1d8e-4d05-93eb-0cd93201e3df",
   "metadata": {},
   "source": [
    "# Multi-algorithmic simulation of multiple models and simulation tools"
   ]
  },
  {
   "cell_type": "markdown",
   "id": "6f02709d-3c81-4da6-a28f-6bdf5988bb9a",
   "metadata": {},
   "source": [
    "The BioSimulators Python APIs are an excellent starting point for building multi-algorithmic simulations involving multiple models, modeling frameworks, simulation algorithms, and/or simulation tools. The APIs provide the flexibilty needed for composition and the consistency to explore numerous combinations of simulation tools.\n",
    "\n",
    "We recommend using the [Vivarium](https://vivarium-collective.github.io/) framework to compose models and simulation tools. Vivarium already provides adapters for BioSimulators."
   ]
  }
 ],
 "metadata": {
  "kernelspec": {
   "display_name": "Python 3 (ipykernel)",
   "language": "python",
   "name": "python3"
  },
  "language_info": {
   "codemirror_mode": {
    "name": "ipython",
    "version": 3
   },
   "file_extension": ".py",
   "mimetype": "text/x-python",
   "name": "python",
   "nbconvert_exporter": "python",
   "pygments_lexer": "ipython3",
   "version": "3.9.7"
  }
 },
 "nbformat": 4,
 "nbformat_minor": 5
}
