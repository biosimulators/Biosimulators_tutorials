{
 "cells": [
  {
   "cell_type": "markdown",
   "id": "946495fc-273a-4b93-bd8c-b25d3c816900",
   "metadata": {},
   "source": [
    "# Introspecting models"
   ]
  },
  {
   "cell_type": "markdown",
   "id": "fcd49a36-c998-4af0-87d5-f89886ec6475",
   "metadata": {},
   "source": [
    "To help investigators work with models and simulations, [BioSimulators-utils](https://github.com/biosimulators/Biosimulators_utils) provides a method, `get_parameters_variables_outputs_for_simulation` for introspecting model/simulation files. This method can be helpful for programmatically constructing SED-ML files and COMBINE archives from other formats.\n",
    "\n",
    "This method can extract several types of information about model/simulation files:\n",
    "* Inputs to simulations: Boolean and numeric-valued attributes of models/simulations such as for constants and initial conditions.\n",
    "* Outputs of simulations: Possible variables which can be observed such as values of objectives, concentrations of species, fluxes of reactions, and sizes of compartments.\n",
    "* Simulations: Settings for simulations such as start and stop times, algorithms, and algorithm parameters.\n",
    "* Plots: Settings for plots of simulation results, such as the obserables that should be painted on each curve of a 2D line plot.\n",
    "\n",
    "This method currently supports the following formats:\n",
    "* [BioNetGen Language (BNGL)](https://www.bionetgen.org/)\n",
    "* [CellML](https://www.cellml.org/)\n",
    "* [GINsim Markup Language (GINML, ZGINML)](http://ginsim.org/)\n",
    "* [NeuroML](https://neuroml.org/)/[Low Entropy Model Specification (LEMS)](https://lems.github.io/LEMS/)\n",
    "* [Resource Balance Analysis (RBA)](https://sysbioinra.github.io/RBApy/)\n",
    "* [Smoldyn](http://www.smoldyn.org/)\n",
    "* [Systems Biology Markup Language (SBML)](http://sbml.org)\n",
    "* [SBML flux balance constraints (FBC) package](http://sbml.org/Documents/Specifications/SBML_Level_3/Packages/fbc)\n",
    "* [SBML qualitative models (qual) package](http://sbml.org/Documents/Specifications/SBML_Level_3/Packages/qual)\n",
    "* [SBML Mass Action Stoichiometric Simulation (MASS) schema](https://masspy.readthedocs.io/en/stable/tutorials/reading_writing_models.html)\n",
    "* [XPP ODE format](http://www.math.pitt.edu/~bard/xpp/help/xppodes.html)\n",
    "\n",
    "This tutorial illustrates how to use BioSimulators utils to introspect a model."
   ]
  },
  {
   "cell_type": "markdown",
   "id": "83fb4da3-0880-425b-ab21-ea1621285a10",
   "metadata": {},
   "source": [
    "## 1. Install BioSimulators-utils with options for the model formats that you would like to introspect"
   ]
  },
  {
   "cell_type": "markdown",
   "id": "edc16507-98e5-47b6-b96d-cbd6a7812d83",
   "metadata": {},
   "source": [
    "For example, install BioSimulators-utils with the `sbml` option to enable introspection of models encoded in SBML. More information about the available installation options is available at [https://docs.biosimulators.org/](https://docs.biosimulators.org/Biosimulators_utils/)."
   ]
  },
  {
   "cell_type": "code",
   "execution_count": 1,
   "id": "161ea725-3c7f-402f-b5e7-db20ea332c11",
   "metadata": {
    "scrolled": true,
    "tags": []
   },
   "outputs": [
    {
     "name": "stdout",
     "output_type": "stream",
     "text": [
      "Invalid -W option ignored: invalid module name: 'biosimulators_utils.warnings'\n",
      "Defaulting to user installation because normal site-packages is not writeable\n",
      "Requirement already satisfied: biosimulators-utils[sbml] in /usr/local/lib/python3.9/site-packages (0.1.130)\n",
      "Requirement already satisfied: appdirs in /usr/local/lib/python3.9/site-packages (from biosimulators-utils[sbml]) (1.4.4)\n",
      "Requirement already satisfied: cement in /usr/local/lib/python3.9/site-packages (from biosimulators-utils[sbml]) (3.0.4)\n",
      "Requirement already satisfied: kisao>=2.29 in /usr/local/lib/python3.9/site-packages (from biosimulators-utils[sbml]) (2.29)\n",
      "Requirement already satisfied: pyomexmeta>=1.2.13 in /usr/local/lib/python3.9/site-packages (from biosimulators-utils[sbml]) (1.2.13)\n",
      "Requirement already satisfied: openpyxl in /usr/local/lib/python3.9/site-packages (from biosimulators-utils[sbml]) (3.0.9)\n",
      "Requirement already satisfied: validators in /usr/local/lib/python3.9/site-packages (from biosimulators-utils[sbml]) (0.18.2)\n",
      "Requirement already satisfied: requests-cache in /usr/local/lib/python3.9/site-packages (from biosimulators-utils[sbml]) (0.8.2.dev1)\n",
      "Requirement already satisfied: yamldown in /usr/local/lib/python3.9/site-packages (from biosimulators-utils[sbml]) (0.1.8)\n",
      "Requirement already satisfied: matplotlib in /usr/local/lib/python3.9/site-packages (from biosimulators-utils[sbml]) (3.2.0)\n",
      "Requirement already satisfied: setuptools in /usr/local/lib/python3.9/site-packages (from biosimulators-utils[sbml]) (57.5.0)\n",
      "Requirement already satisfied: biopython in /usr/local/lib/python3.9/site-packages (from biosimulators-utils[sbml]) (1.79)\n",
      "Requirement already satisfied: pyyaml in /usr/local/lib/python3.9/site-packages (from biosimulators-utils[sbml]) (6.0b1)\n",
      "Requirement already satisfied: rdflib in /usr/local/lib/python3.9/site-packages (from biosimulators-utils[sbml]) (6.0.1)\n",
      "Requirement already satisfied: pandas in /usr/local/lib/python3.9/site-packages (from biosimulators-utils[sbml]) (1.3.3)\n",
      "Requirement already satisfied: evalidate in /usr/local/lib/python3.9/site-packages (from biosimulators-utils[sbml]) (0.7.8)\n",
      "Requirement already satisfied: pronto>=2.4 in /usr/local/lib/python3.9/site-packages (from biosimulators-utils[sbml]) (2.4.3)\n",
      "Requirement already satisfied: python-libcombine>=0.2.11 in /usr/local/lib/python3.9/site-packages (from biosimulators-utils[sbml]) (0.2.13)\n",
      "Requirement already satisfied: natsort in /usr/local/lib/python3.9/site-packages (from biosimulators-utils[sbml]) (7.1.1)\n",
      "Requirement already satisfied: numpy in /usr/local/lib/python3.9/site-packages (from biosimulators-utils[sbml]) (1.19.3)\n",
      "Requirement already satisfied: simplejson in /usr/local/lib/python3.9/site-packages (from biosimulators-utils[sbml]) (3.17.5)\n",
      "Requirement already satisfied: python-dateutil in /usr/local/lib/python3.9/site-packages (from biosimulators-utils[sbml]) (2.8.2)\n",
      "Requirement already satisfied: requests in /usr/local/lib/python3.9/site-packages (from biosimulators-utils[sbml]) (2.26.0)\n",
      "Requirement already satisfied: python-libsedml>=2.0.16 in /usr/local/lib/python3.9/site-packages (from biosimulators-utils[sbml]) (2.0.26)\n",
      "Requirement already satisfied: mpmath in /usr/local/lib/python3.9/site-packages (from biosimulators-utils[sbml]) (1.2.1)\n",
      "Requirement already satisfied: h5py in /usr/local/lib/python3.9/site-packages (from biosimulators-utils[sbml]) (3.4.0)\n",
      "Requirement already satisfied: networkx>=2.6 in /usr/local/lib/python3.9/site-packages (from biosimulators-utils[sbml]) (2.6.3)\n",
      "Requirement already satisfied: termcolor in /usr/local/lib/python3.9/site-packages (from biosimulators-utils[sbml]) (1.1.0)\n",
      "Requirement already satisfied: lxml in /usr/local/lib/python3.9/site-packages (from biosimulators-utils[sbml]) (4.6.3)\n",
      "Requirement already satisfied: python-libsbml in /usr/local/lib/python3.9/site-packages (from biosimulators-utils[sbml]) (5.19.0)\n",
      "Requirement already satisfied: fastobo~=0.10.0 in /usr/local/lib/python3.9/site-packages (from pronto>=2.4->biosimulators-utils[sbml]) (0.10.2.post1)\n",
      "Requirement already satisfied: chardet<5.0,>=3.0 in /usr/local/lib/python3.9/site-packages (from pronto>=2.4->biosimulators-utils[sbml]) (4.0.0)\n",
      "Requirement already satisfied: pydot>=1.4.1 in /usr/local/lib/python3.9/site-packages (from pyomexmeta>=1.2.13->biosimulators-utils[sbml]) (1.4.2)\n",
      "Requirement already satisfied: graphviz>=0.15 in /usr/local/lib/python3.9/site-packages (from pyomexmeta>=1.2.13->biosimulators-utils[sbml]) (0.17)\n",
      "Requirement already satisfied: pyparsing>=2.1.4 in /usr/local/lib/python3.9/site-packages (from pydot>=1.4.1->pyomexmeta>=1.2.13->biosimulators-utils[sbml]) (3.0.0rc2)\n",
      "Requirement already satisfied: six>=1.5 in /usr/local/lib/python3.9/site-packages (from python-dateutil->biosimulators-utils[sbml]) (1.16.0)\n",
      "Requirement already satisfied: kiwisolver>=1.0.1 in /usr/local/lib/python3.9/site-packages (from matplotlib->biosimulators-utils[sbml]) (1.3.2)\n",
      "Requirement already satisfied: cycler>=0.10 in /usr/local/lib/python3.9/site-packages (from matplotlib->biosimulators-utils[sbml]) (0.10.0)\n",
      "Requirement already satisfied: et-xmlfile in /usr/local/lib/python3.9/site-packages (from openpyxl->biosimulators-utils[sbml]) (1.1.0)\n",
      "Requirement already satisfied: pytz>=2017.3 in /usr/local/lib/python3.9/site-packages (from pandas->biosimulators-utils[sbml]) (2021.3)\n",
      "Requirement already satisfied: isodate in /usr/local/lib/python3.9/site-packages (from rdflib->biosimulators-utils[sbml]) (0.6.0)\n",
      "Requirement already satisfied: urllib3<1.27,>=1.21.1 in /usr/local/lib/python3.9/site-packages (from requests->biosimulators-utils[sbml]) (1.26.7)\n",
      "Requirement already satisfied: charset-normalizer~=2.0.0 in /usr/local/lib/python3.9/site-packages (from requests->biosimulators-utils[sbml]) (2.0.6)\n",
      "Requirement already satisfied: certifi>=2017.4.17 in /usr/local/lib/python3.9/site-packages (from requests->biosimulators-utils[sbml]) (2021.5.30)\n",
      "Requirement already satisfied: idna<4,>=2.5 in /usr/local/lib/python3.9/site-packages (from requests->biosimulators-utils[sbml]) (3.2)\n",
      "Requirement already satisfied: url-normalize<2.0,>=1.4 in /usr/local/lib/python3.9/site-packages (from requests-cache->biosimulators-utils[sbml]) (1.4.3)\n",
      "Requirement already satisfied: attrs<22.0,>=21.2 in /usr/local/lib/python3.9/site-packages (from requests-cache->biosimulators-utils[sbml]) (21.2.0)\n",
      "Requirement already satisfied: cattrs<2.0,>=1.8 in /usr/local/lib/python3.9/site-packages (from requests-cache->biosimulators-utils[sbml]) (1.8.0)\n",
      "Requirement already satisfied: decorator>=3.4.0 in /usr/local/lib/python3.9/site-packages (from validators->biosimulators-utils[sbml]) (5.1.0)\n"
     ]
    }
   ],
   "source": [
    "!pip install biosimulators-utils[sbml]"
   ]
  },
  {
   "cell_type": "markdown",
   "id": "deacd526-1a56-428e-84b0-6c17baba6f4e",
   "metadata": {},
   "source": [
    "## 2. Import `get_parameters_variables_outputs_for_simulation`"
   ]
  },
  {
   "cell_type": "code",
   "execution_count": 2,
   "id": "f557eb30-483d-4bc1-af7f-70d25be9c77c",
   "metadata": {},
   "outputs": [],
   "source": [
    "from biosimulators_utils.sedml.model_utils import get_parameters_variables_outputs_for_simulation"
   ]
  },
  {
   "cell_type": "markdown",
   "id": "8c19cea4-2767-4c43-9830-a90a3cd0c0eb",
   "metadata": {},
   "source": [
    "## 3. Import `ModelLanguage` to describe the format that should be introspected"
   ]
  },
  {
   "cell_type": "code",
   "execution_count": 3,
   "id": "e4987ce5-f053-4135-9257-6ac75b7f6b61",
   "metadata": {},
   "outputs": [],
   "source": [
    "from biosimulators_utils.sedml.data_model import ModelLanguage"
   ]
  },
  {
   "cell_type": "markdown",
   "id": "4f914f44-0854-484b-87b3-4d47ce5816bc",
   "metadata": {},
   "source": [
    "## 4. Import an additional class to describe the default type of simulation that should be introspected from the model file if the file does not describe any simulations"
   ]
  },
  {
   "cell_type": "code",
   "execution_count": 4,
   "id": "ee8f5ccb-5650-40cb-8aad-b0857927a5ae",
   "metadata": {},
   "outputs": [],
   "source": [
    "from biosimulators_utils.sedml.data_model import UniformTimeCourseSimulation"
   ]
  },
  {
   "cell_type": "markdown",
   "id": "e9c6694e-d994-45c8-a854-990be3ecb798",
   "metadata": {
    "tags": []
   },
   "source": [
    "## 5. Execute `get_parameters_variables_outputs_for_simulation` on a model file"
   ]
  },
  {
   "cell_type": "markdown",
   "id": "b1645394-c6e2-47a6-91d3-311861effb30",
   "metadata": {},
   "source": [
    "Execute the following code to introspect the Systems Biology Markup Language (SBML) file for the [Ciliberto et al. morphogenesis checkpoint model](../_data/Ciliberto-J-Cell-Biol-2003-morphogenesis-checkpoint-continuous.xml)."
   ]
  },
  {
   "cell_type": "code",
   "execution_count": 5,
   "id": "2f014575-3099-451f-8ce1-f36ddba934e5",
   "metadata": {},
   "outputs": [],
   "source": [
    "inputs, simulations, outputs, plots = get_parameters_variables_outputs_for_simulation(\n",
    "    model_filename='../_data/Ciliberto-J-Cell-Biol-2003-morphogenesis-checkpoint-continuous.xml',\n",
    "    model_language=ModelLanguage.SBML,\n",
    "    simulation_type=UniformTimeCourseSimulation)"
   ]
  },
  {
   "cell_type": "markdown",
   "id": "b9984a3d-cb56-438d-93c8-ec435f3bd0c8",
   "metadata": {},
   "source": [
    "The first output, `inputs`, describes the inputs to simulations of the model. This captures all of the attributes of a simulation that could be modified. This output is a list of instances of `biosimulators_utils.sedml.data_model.ModelAttributeChange`. Each instance captures a suggested id and name for a change for for the corresponding model component, the address of the component within the model, and its default value encoded into a string."
   ]
  },
  {
   "cell_type": "code",
   "execution_count": 6,
   "id": "0490ebec-5781-4724-a85b-4a2c2f587f9c",
   "metadata": {
    "scrolled": true,
    "tags": []
   },
   "outputs": [
    {
     "name": "stdout",
     "output_type": "stream",
     "text": [
      "init_conc_species_BE:\n",
      "  default: '2.429618e-4'\n",
      "  target: /sbml:sbml/sbml:model/sbml:listOfSpecies/sbml:species[@id='BE']/@initialConcentration\n",
      "init_conc_species_Cdc20:\n",
      "  default: '1.1722378'\n",
      "  target: /sbml:sbml/sbml:model/sbml:listOfSpecies/sbml:species[@id='Cdc20']/@initialConcentration\n",
      "init_conc_species_Cdc20a:\n",
      "  default: '1.4384692'\n",
      "  target: /sbml:sbml/sbml:model/sbml:listOfSpecies/sbml:species[@id='Cdc20a']/@initialConcentration\n",
      "init_conc_species_Cdh1:\n",
      "  default: '0.99263656'\n",
      "  target: /sbml:sbml/sbml:model/sbml:listOfSpecies/sbml:species[@id='Cdh1']/@initialConcentration\n",
      "init_conc_species_Clb:\n",
      "  default: '0.18453673'\n",
      "  target: /sbml:sbml/sbml:model/sbml:listOfSpecies/sbml:species[@id='Clb']/@initialConcentration\n",
      "init_conc_species_Cln:\n",
      "  default: '0.053600963'\n",
      "  target: /sbml:sbml/sbml:model/sbml:listOfSpecies/sbml:species[@id='Cln']/@initialConcentration\n",
      "init_conc_species_IE:\n",
      "  default: '0.52220768'\n",
      "  target: /sbml:sbml/sbml:model/sbml:listOfSpecies/sbml:species[@id='IE']/@initialConcentration\n",
      "init_conc_species_Mcm:\n",
      "  default: '0.93289256'\n",
      "  target: /sbml:sbml/sbml:model/sbml:listOfSpecies/sbml:species[@id='Mcm']/@initialConcentration\n",
      "init_conc_species_Mih1a:\n",
      "  default: '0.80809075'\n",
      "  target: /sbml:sbml/sbml:model/sbml:listOfSpecies/sbml:species[@id='Mih1a']/@initialConcentration\n",
      "init_conc_species_PClb:\n",
      "  default: '3.020305e-5'\n",
      "  target: /sbml:sbml/sbml:model/sbml:listOfSpecies/sbml:species[@id='PClb']/@initialConcentration\n",
      "init_conc_species_PSwe1:\n",
      "  default: '2.050078e-4'\n",
      "  target: /sbml:sbml/sbml:model/sbml:listOfSpecies/sbml:species[@id='PSwe1']/@initialConcentration\n",
      "init_conc_species_PSwe1M:\n",
      "  default: '0.013336782'\n",
      "  target: /sbml:sbml/sbml:model/sbml:listOfSpecies/sbml:species[@id='PSwe1M']/@initialConcentration\n",
      "init_conc_species_PTrim:\n",
      "  default: '1.402314e-5'\n",
      "  target: /sbml:sbml/sbml:model/sbml:listOfSpecies/sbml:species[@id='PTrim']/@initialConcentration\n",
      "init_conc_species_SBF:\n",
      "  default: '0.12405464'\n",
      "  target: /sbml:sbml/sbml:model/sbml:listOfSpecies/sbml:species[@id='SBF']/@initialConcentration\n",
      "init_conc_species_Sic:\n",
      "  default: '0.0035491784'\n",
      "  target: /sbml:sbml/sbml:model/sbml:listOfSpecies/sbml:species[@id='Sic']/@initialConcentration\n",
      "init_conc_species_Swe1:\n",
      "  default: '3.158858e-4'\n",
      "  target: /sbml:sbml/sbml:model/sbml:listOfSpecies/sbml:species[@id='Swe1']/@initialConcentration\n",
      "init_conc_species_Swe1M:\n",
      "  default: '0.018360127'\n",
      "  target: /sbml:sbml/sbml:model/sbml:listOfSpecies/sbml:species[@id='Swe1M']/@initialConcentration\n",
      "init_conc_species_Trim:\n",
      "  default: '0.084410675'\n",
      "  target: /sbml:sbml/sbml:model/sbml:listOfSpecies/sbml:species[@id='Trim']/@initialConcentration\n",
      "init_conc_species_mass:\n",
      "  default: '0.80224854'\n",
      "  target: /sbml:sbml/sbml:model/sbml:listOfSpecies/sbml:species[@id='mass']/@initialConcentration\n",
      "init_size_compartment_compartment:\n",
      "  default: '1'\n",
      "  target: /sbml:sbml/sbml:model/sbml:listOfCompartments/sbml:compartment[@id='compartment']/@size\n",
      "value_parameter_BUD:\n",
      "  default: '0'\n",
      "  target: /sbml:sbml/sbml:model/sbml:listOfParameters/sbml:parameter[@id='BUD']/@value\n",
      "value_parameter_Cdh1in:\n",
      "  default: '0'\n",
      "  target: /sbml:sbml/sbml:model/sbml:listOfParameters/sbml:parameter[@id='Cdh1in']/@value\n",
      "value_parameter_Cdh1tot:\n",
      "  default: '1'\n",
      "  target: /sbml:sbml/sbml:model/sbml:listOfParameters/sbml:parameter[@id='Cdh1tot']/@value\n",
      "value_parameter_IEin:\n",
      "  default: '0'\n",
      "  target: /sbml:sbml/sbml:model/sbml:listOfParameters/sbml:parameter[@id='IEin']/@value\n",
      "value_parameter_IEtot:\n",
      "  default: '1'\n",
      "  target: /sbml:sbml/sbml:model/sbml:listOfParameters/sbml:parameter[@id='IEtot']/@value\n",
      "value_parameter_Jamih:\n",
      "  default: '0.1'\n",
      "  target: /sbml:sbml/sbml:model/sbml:listOfParameters/sbml:parameter[@id='Jamih']/@value\n",
      "value_parameter_Jawee:\n",
      "  default: '0.05'\n",
      "  target: /sbml:sbml/sbml:model/sbml:listOfParameters/sbml:parameter[@id='Jawee']/@value\n",
      "value_parameter_Jiwee:\n",
      "  default: '0.05'\n",
      "  target: /sbml:sbml/sbml:model/sbml:listOfParameters/sbml:parameter[@id='Jiwee']/@value\n",
      "value_parameter_Jm:\n",
      "  default: '10'\n",
      "  target: /sbml:sbml/sbml:model/sbml:listOfParameters/sbml:parameter[@id='Jm']/@value\n",
      "value_parameter_Kacdh_doubleprime:\n",
      "  default: '10'\n",
      "  target: /sbml:sbml/sbml:model/sbml:listOfParameters/sbml:parameter[@id='Kacdh_doubleprime']/@value\n",
      "value_parameter_Kacdh_prime:\n",
      "  default: '1'\n",
      "  target: /sbml:sbml/sbml:model/sbml:listOfParameters/sbml:parameter[@id='Kacdh_prime']/@value\n",
      "value_parameter_Mcmin:\n",
      "  default: '0'\n",
      "  target: /sbml:sbml/sbml:model/sbml:listOfParameters/sbml:parameter[@id='Mcmin']/@value\n",
      "value_parameter_Mcmtot:\n",
      "  default: '1'\n",
      "  target: /sbml:sbml/sbml:model/sbml:listOfParameters/sbml:parameter[@id='Mcmtot']/@value\n",
      "value_parameter_Mih:\n",
      "  default: '0'\n",
      "  target: /sbml:sbml/sbml:model/sbml:listOfParameters/sbml:parameter[@id='Mih']/@value\n",
      "value_parameter_Mih1:\n",
      "  default: '0'\n",
      "  target: /sbml:sbml/sbml:model/sbml:listOfParameters/sbml:parameter[@id='Mih1']/@value\n",
      "value_parameter_Mih1tot:\n",
      "  default: '1'\n",
      "  target: /sbml:sbml/sbml:model/sbml:listOfParameters/sbml:parameter[@id='Mih1tot']/@value\n",
      "value_parameter_Mih_ast:\n",
      "  default: '0'\n",
      "  target: /sbml:sbml/sbml:model/sbml:listOfParameters/sbml:parameter[@id='Mih_ast']/@value\n",
      "value_parameter_SBFin:\n",
      "  default: '0'\n",
      "  target: /sbml:sbml/sbml:model/sbml:listOfParameters/sbml:parameter[@id='SBFin']/@value\n",
      "value_parameter_SBFtot:\n",
      "  default: '1'\n",
      "  target: /sbml:sbml/sbml:model/sbml:listOfParameters/sbml:parameter[@id='SBFtot']/@value\n",
      "value_parameter_Swe1T:\n",
      "  default: '0'\n",
      "  target: /sbml:sbml/sbml:model/sbml:listOfParameters/sbml:parameter[@id='Swe1T']/@value\n",
      "value_parameter_Vamih:\n",
      "  default: '1'\n",
      "  target: /sbml:sbml/sbml:model/sbml:listOfParameters/sbml:parameter[@id='Vamih']/@value\n",
      "value_parameter_Vawee:\n",
      "  default: '0.3'\n",
      "  target: /sbml:sbml/sbml:model/sbml:listOfParameters/sbml:parameter[@id='Vawee']/@value\n",
      "value_parameter_Vimih:\n",
      "  default: '0.3'\n",
      "  target: /sbml:sbml/sbml:model/sbml:listOfParameters/sbml:parameter[@id='Vimih']/@value\n",
      "value_parameter_Viwee:\n",
      "  default: '1'\n",
      "  target: /sbml:sbml/sbml:model/sbml:listOfParameters/sbml:parameter[@id='Viwee']/@value\n",
      "value_parameter_eps:\n",
      "  default: '0.5'\n",
      "  target: /sbml:sbml/sbml:model/sbml:listOfParameters/sbml:parameter[@id='eps']/@value\n",
      "value_parameter_flag:\n",
      "  default: '0'\n",
      "  target: /sbml:sbml/sbml:model/sbml:listOfParameters/sbml:parameter[@id='flag']/@value\n",
      "value_parameter_jacdc20:\n",
      "  default: '1.000000e-3'\n",
      "  target: /sbml:sbml/sbml:model/sbml:listOfParameters/sbml:parameter[@id='jacdc20']/@value\n",
      "value_parameter_jacdh:\n",
      "  default: '0.01'\n",
      "  target: /sbml:sbml/sbml:model/sbml:listOfParameters/sbml:parameter[@id='jacdh']/@value\n",
      "value_parameter_jaie:\n",
      "  default: '0.01'\n",
      "  target: /sbml:sbml/sbml:model/sbml:listOfParameters/sbml:parameter[@id='jaie']/@value\n",
      "value_parameter_jamcm:\n",
      "  default: '0.1'\n",
      "  target: /sbml:sbml/sbml:model/sbml:listOfParameters/sbml:parameter[@id='jamcm']/@value\n",
      "value_parameter_jasbf:\n",
      "  default: '0.01'\n",
      "  target: /sbml:sbml/sbml:model/sbml:listOfParameters/sbml:parameter[@id='jasbf']/@value\n",
      "value_parameter_jicdc20:\n",
      "  default: '1.000000e-3'\n",
      "  target: /sbml:sbml/sbml:model/sbml:listOfParameters/sbml:parameter[@id='jicdc20']/@value\n",
      "value_parameter_jicdh:\n",
      "  default: '0.01'\n",
      "  target: /sbml:sbml/sbml:model/sbml:listOfParameters/sbml:parameter[@id='jicdh']/@value\n",
      "value_parameter_jiie:\n",
      "  default: '0.01'\n",
      "  target: /sbml:sbml/sbml:model/sbml:listOfParameters/sbml:parameter[@id='jiie']/@value\n",
      "value_parameter_jimcm:\n",
      "  default: '0.1'\n",
      "  target: /sbml:sbml/sbml:model/sbml:listOfParameters/sbml:parameter[@id='jimcm']/@value\n",
      "value_parameter_jimih:\n",
      "  default: '0.1'\n",
      "  target: /sbml:sbml/sbml:model/sbml:listOfParameters/sbml:parameter[@id='jimih']/@value\n",
      "value_parameter_jisbf:\n",
      "  default: '0.01'\n",
      "  target: /sbml:sbml/sbml:model/sbml:listOfParameters/sbml:parameter[@id='jisbf']/@value\n",
      "value_parameter_jscdc20:\n",
      "  default: '0.3'\n",
      "  target: /sbml:sbml/sbml:model/sbml:listOfParameters/sbml:parameter[@id='jscdc20']/@value\n",
      "value_parameter_kacdc20:\n",
      "  default: '1'\n",
      "  target: /sbml:sbml/sbml:model/sbml:listOfParameters/sbml:parameter[@id='kacdc20']/@value\n",
      "value_parameter_kaie:\n",
      "  default: '0.1'\n",
      "  target: /sbml:sbml/sbml:model/sbml:listOfParameters/sbml:parameter[@id='kaie']/@value\n",
      "value_parameter_kamcm:\n",
      "  default: '1'\n",
      "  target: /sbml:sbml/sbml:model/sbml:listOfParameters/sbml:parameter[@id='kamcm']/@value\n",
      "value_parameter_kasbf_doubleprime:\n",
      "  default: '0'\n",
      "  target: /sbml:sbml/sbml:model/sbml:listOfParameters/sbml:parameter[@id='kasbf_doubleprime']/@value\n",
      "value_parameter_kasbf_prime:\n",
      "  default: '1'\n",
      "  target: /sbml:sbml/sbml:model/sbml:listOfParameters/sbml:parameter[@id='kasbf_prime']/@value\n",
      "value_parameter_kass:\n",
      "  default: '300'\n",
      "  target: /sbml:sbml/sbml:model/sbml:listOfParameters/sbml:parameter[@id='kass']/@value\n",
      "value_parameter_kdbud:\n",
      "  default: '0.1'\n",
      "  target: /sbml:sbml/sbml:model/sbml:listOfParameters/sbml:parameter[@id='kdbud']/@value\n",
      "value_parameter_kdcdc20:\n",
      "  default: '0.1'\n",
      "  target: /sbml:sbml/sbml:model/sbml:listOfParameters/sbml:parameter[@id='kdcdc20']/@value\n",
      "value_parameter_kdclb_doubleprime:\n",
      "  default: '1'\n",
      "  target: /sbml:sbml/sbml:model/sbml:listOfParameters/sbml:parameter[@id='kdclb_doubleprime']/@value\n",
      "value_parameter_kdclb_prime:\n",
      "  default: '0.015'\n",
      "  target: /sbml:sbml/sbml:model/sbml:listOfParameters/sbml:parameter[@id='kdclb_prime']/@value\n",
      "value_parameter_kdclb_tripleprime:\n",
      "  default: '0.1'\n",
      "  target: /sbml:sbml/sbml:model/sbml:listOfParameters/sbml:parameter[@id='kdclb_tripleprime']/@value\n",
      "value_parameter_kdcln:\n",
      "  default: '0.1'\n",
      "  target: /sbml:sbml/sbml:model/sbml:listOfParameters/sbml:parameter[@id='kdcln']/@value\n",
      "value_parameter_kdiss:\n",
      "  default: '0.1'\n",
      "  target: /sbml:sbml/sbml:model/sbml:listOfParameters/sbml:parameter[@id='kdiss']/@value\n",
      "value_parameter_kdsic:\n",
      "  default: '0.01'\n",
      "  target: /sbml:sbml/sbml:model/sbml:listOfParameters/sbml:parameter[@id='kdsic']/@value\n",
      "value_parameter_kdsic_doubleprime:\n",
      "  default: '3'\n",
      "  target: /sbml:sbml/sbml:model/sbml:listOfParameters/sbml:parameter[@id='kdsic_doubleprime']/@value\n",
      "value_parameter_kdsic_prime:\n",
      "  default: '1'\n",
      "  target: /sbml:sbml/sbml:model/sbml:listOfParameters/sbml:parameter[@id='kdsic_prime']/@value\n",
      "value_parameter_kdswe_doubleprime:\n",
      "  default: '0.05'\n",
      "  target: /sbml:sbml/sbml:model/sbml:listOfParameters/sbml:parameter[@id='kdswe_doubleprime']/@value\n",
      "value_parameter_kdswe_prime:\n",
      "  default: '0.007'\n",
      "  target: /sbml:sbml/sbml:model/sbml:listOfParameters/sbml:parameter[@id='kdswe_prime']/@value\n",
      "value_parameter_khsl1:\n",
      "  default: '1'\n",
      "  target: /sbml:sbml/sbml:model/sbml:listOfParameters/sbml:parameter[@id='khsl1']/@value\n",
      "value_parameter_khsl1r:\n",
      "  default: '0.01'\n",
      "  target: /sbml:sbml/sbml:model/sbml:listOfParameters/sbml:parameter[@id='khsl1r']/@value\n",
      "value_parameter_kicdc20:\n",
      "  default: '0.25'\n",
      "  target: /sbml:sbml/sbml:model/sbml:listOfParameters/sbml:parameter[@id='kicdc20']/@value\n",
      "value_parameter_kicdh:\n",
      "  default: '35'\n",
      "  target: /sbml:sbml/sbml:model/sbml:listOfParameters/sbml:parameter[@id='kicdh']/@value\n",
      "value_parameter_kicdh_prime:\n",
      "  default: '2'\n",
      "  target: /sbml:sbml/sbml:model/sbml:listOfParameters/sbml:parameter[@id='kicdh_prime']/@value\n",
      "value_parameter_kiie:\n",
      "  default: '0.04'\n",
      "  target: /sbml:sbml/sbml:model/sbml:listOfParameters/sbml:parameter[@id='kiie']/@value\n",
      "value_parameter_kimcm:\n",
      "  default: '0.15'\n",
      "  target: /sbml:sbml/sbml:model/sbml:listOfParameters/sbml:parameter[@id='kimcm']/@value\n",
      "value_parameter_kisbf_doubleprime:\n",
      "  default: '2'\n",
      "  target: /sbml:sbml/sbml:model/sbml:listOfParameters/sbml:parameter[@id='kisbf_doubleprime']/@value\n",
      "value_parameter_kisbf_prime:\n",
      "  default: '1'\n",
      "  target: /sbml:sbml/sbml:model/sbml:listOfParameters/sbml:parameter[@id='kisbf_prime']/@value\n",
      "value_parameter_kmih:\n",
      "  default: '0'\n",
      "  target: /sbml:sbml/sbml:model/sbml:listOfParameters/sbml:parameter[@id='kmih']/@value\n",
      "value_parameter_kmih_doubleprime:\n",
      "  default: '0.5'\n",
      "  target: /sbml:sbml/sbml:model/sbml:listOfParameters/sbml:parameter[@id='kmih_doubleprime']/@value\n",
      "value_parameter_kmih_prime:\n",
      "  default: '5'\n",
      "  target: /sbml:sbml/sbml:model/sbml:listOfParameters/sbml:parameter[@id='kmih_prime']/@value\n",
      "value_parameter_ksbud:\n",
      "  default: '0.1'\n",
      "  target: /sbml:sbml/sbml:model/sbml:listOfParameters/sbml:parameter[@id='ksbud']/@value\n",
      "value_parameter_kscdc20_doubleprime:\n",
      "  default: '0.3'\n",
      "  target: /sbml:sbml/sbml:model/sbml:listOfParameters/sbml:parameter[@id='kscdc20_doubleprime']/@value\n",
      "value_parameter_kscdc20_prime:\n",
      "  default: '0.005'\n",
      "  target: /sbml:sbml/sbml:model/sbml:listOfParameters/sbml:parameter[@id='kscdc20_prime']/@value\n",
      "value_parameter_ksclb:\n",
      "  default: '0.015'\n",
      "  target: /sbml:sbml/sbml:model/sbml:listOfParameters/sbml:parameter[@id='ksclb']/@value\n",
      "value_parameter_kscln:\n",
      "  default: '0.1'\n",
      "  target: /sbml:sbml/sbml:model/sbml:listOfParameters/sbml:parameter[@id='kscln']/@value\n",
      "value_parameter_kssic:\n",
      "  default: '0.1'\n",
      "  target: /sbml:sbml/sbml:model/sbml:listOfParameters/sbml:parameter[@id='kssic']/@value\n",
      "value_parameter_ksswe:\n",
      "  default: '0.0025'\n",
      "  target: /sbml:sbml/sbml:model/sbml:listOfParameters/sbml:parameter[@id='ksswe']/@value\n",
      "value_parameter_kssweC:\n",
      "  default: '0'\n",
      "  target: /sbml:sbml/sbml:model/sbml:listOfParameters/sbml:parameter[@id='kssweC']/@value\n",
      "value_parameter_kswe:\n",
      "  default: '0'\n",
      "  target: /sbml:sbml/sbml:model/sbml:listOfParameters/sbml:parameter[@id='kswe']/@value\n",
      "value_parameter_kswe_doubleprime:\n",
      "  default: '0.01'\n",
      "  target: /sbml:sbml/sbml:model/sbml:listOfParameters/sbml:parameter[@id='kswe_doubleprime']/@value\n",
      "value_parameter_kswe_prime:\n",
      "  default: '2'\n",
      "  target: /sbml:sbml/sbml:model/sbml:listOfParameters/sbml:parameter[@id='kswe_prime']/@value\n",
      "value_parameter_kswe_tripleprime:\n",
      "  default: '0.2'\n",
      "  target: /sbml:sbml/sbml:model/sbml:listOfParameters/sbml:parameter[@id='kswe_tripleprime']/@value\n",
      "value_parameter_mu:\n",
      "  default: '0.005'\n",
      "  target: /sbml:sbml/sbml:model/sbml:listOfParameters/sbml:parameter[@id='mu']/@value\n",
      "\n"
     ]
    }
   ],
   "source": [
    "import yaml\n",
    "print(yaml.dump({input.id: {'target': input.target, 'default': input.new_value} for input in inputs}))"
   ]
  },
  {
   "cell_type": "markdown",
   "id": "603d9db0-fc3e-488a-9306-6cc2f53579ae",
   "metadata": {},
   "source": [
    "The second output, `simulations`, describes the simulations specified in the model file. This output is a list of instances of `biosimulators_utils.sedml.data_model.Simulation`. If no simulations were described in the file, `get_parameters_variables_outputs_for_simulation` returns an array with a single instance of the default type of simulation with a recommended simulation algorithm."
   ]
  },
  {
   "cell_type": "code",
   "execution_count": 7,
   "id": "4689715c-a418-47f8-8872-b0b77679744e",
   "metadata": {},
   "outputs": [
    {
     "name": "stdout",
     "output_type": "stream",
     "text": [
      "Simulation 1\n",
      " Type: UniformTimeCourseSimulation\n",
      " Initial time: 0.0\n",
      " Output start time: 0.0\n",
      " Output end time: 1.0\n",
      " Number of steps: 10\n",
      " Algorithm: KISAO_0000019\n"
     ]
    }
   ],
   "source": [
    "for i_simulation, simulation in enumerate(simulations):\n",
    "    print(f'Simulation {i_simulation + 1}')\n",
    "    print(f' Type: {simulation.__class__.__name__}')\n",
    "    print(f' Initial time: {simulation.initial_time}')\n",
    "    print(f' Output start time: {simulation.output_start_time}')\n",
    "    print(f' Output end time: {simulation.output_end_time}')\n",
    "    print(f' Number of steps: {simulation.number_of_steps}')\n",
    "    print(f' Algorithm: {simulation.algorithm.kisao_id}')"
   ]
  },
  {
   "cell_type": "markdown",
   "id": "3ffe63ea-43ec-434f-a589-9121d4921520",
   "metadata": {},
   "source": [
    "The third output, `outputs`, describes the possible outputs that could be recorded from simulations of the model. This output is a list of instances of `biosimulators_utils.sedml.data_model.Variable`. Each instance captures a suggested id and name for and observable for the corresponding model component and its address within the model."
   ]
  },
  {
   "cell_type": "code",
   "execution_count": 8,
   "id": "242203d6-7a3a-46d5-9861-706cb050dda4",
   "metadata": {
    "scrolled": true,
    "tags": []
   },
   "outputs": [
    {
     "name": "stdout",
     "output_type": "stream",
     "text": [
      "dynamics_species_BE:\n",
      "  symbol: null\n",
      "  target: /sbml:sbml/sbml:model/sbml:listOfSpecies/sbml:species[@id='BE']\n",
      "dynamics_species_Cdc20:\n",
      "  symbol: null\n",
      "  target: /sbml:sbml/sbml:model/sbml:listOfSpecies/sbml:species[@id='Cdc20']\n",
      "dynamics_species_Cdc20a:\n",
      "  symbol: null\n",
      "  target: /sbml:sbml/sbml:model/sbml:listOfSpecies/sbml:species[@id='Cdc20a']\n",
      "dynamics_species_Cdh1:\n",
      "  symbol: null\n",
      "  target: /sbml:sbml/sbml:model/sbml:listOfSpecies/sbml:species[@id='Cdh1']\n",
      "dynamics_species_Clb:\n",
      "  symbol: null\n",
      "  target: /sbml:sbml/sbml:model/sbml:listOfSpecies/sbml:species[@id='Clb']\n",
      "dynamics_species_Cln:\n",
      "  symbol: null\n",
      "  target: /sbml:sbml/sbml:model/sbml:listOfSpecies/sbml:species[@id='Cln']\n",
      "dynamics_species_IE:\n",
      "  symbol: null\n",
      "  target: /sbml:sbml/sbml:model/sbml:listOfSpecies/sbml:species[@id='IE']\n",
      "dynamics_species_Mcm:\n",
      "  symbol: null\n",
      "  target: /sbml:sbml/sbml:model/sbml:listOfSpecies/sbml:species[@id='Mcm']\n",
      "dynamics_species_Mih1a:\n",
      "  symbol: null\n",
      "  target: /sbml:sbml/sbml:model/sbml:listOfSpecies/sbml:species[@id='Mih1a']\n",
      "dynamics_species_PClb:\n",
      "  symbol: null\n",
      "  target: /sbml:sbml/sbml:model/sbml:listOfSpecies/sbml:species[@id='PClb']\n",
      "dynamics_species_PSwe1:\n",
      "  symbol: null\n",
      "  target: /sbml:sbml/sbml:model/sbml:listOfSpecies/sbml:species[@id='PSwe1']\n",
      "dynamics_species_PSwe1M:\n",
      "  symbol: null\n",
      "  target: /sbml:sbml/sbml:model/sbml:listOfSpecies/sbml:species[@id='PSwe1M']\n",
      "dynamics_species_PTrim:\n",
      "  symbol: null\n",
      "  target: /sbml:sbml/sbml:model/sbml:listOfSpecies/sbml:species[@id='PTrim']\n",
      "dynamics_species_SBF:\n",
      "  symbol: null\n",
      "  target: /sbml:sbml/sbml:model/sbml:listOfSpecies/sbml:species[@id='SBF']\n",
      "dynamics_species_Sic:\n",
      "  symbol: null\n",
      "  target: /sbml:sbml/sbml:model/sbml:listOfSpecies/sbml:species[@id='Sic']\n",
      "dynamics_species_Swe1:\n",
      "  symbol: null\n",
      "  target: /sbml:sbml/sbml:model/sbml:listOfSpecies/sbml:species[@id='Swe1']\n",
      "dynamics_species_Swe1M:\n",
      "  symbol: null\n",
      "  target: /sbml:sbml/sbml:model/sbml:listOfSpecies/sbml:species[@id='Swe1M']\n",
      "dynamics_species_Trim:\n",
      "  symbol: null\n",
      "  target: /sbml:sbml/sbml:model/sbml:listOfSpecies/sbml:species[@id='Trim']\n",
      "dynamics_species_mass:\n",
      "  symbol: null\n",
      "  target: /sbml:sbml/sbml:model/sbml:listOfSpecies/sbml:species[@id='mass']\n",
      "time:\n",
      "  symbol: !!python/object/apply:biosimulators_utils.sedml.data_model.Symbol\n",
      "  - urn:sedml:symbol:time\n",
      "  target: null\n",
      "\n"
     ]
    }
   ],
   "source": [
    "import yaml\n",
    "print(yaml.dump({output.id: {'target': output.target, 'symbol': output.symbol} for output in outputs}))"
   ]
  },
  {
   "cell_type": "markdown",
   "id": "29b70684-8d0b-4c0e-ba00-fd9ae4d59914",
   "metadata": {},
   "source": [
    "The fourth output, `plots`, describes the plots specified in the model file. This output is a list of instances of `biosimulators_utils.sedml.data_model.Plot`."
   ]
  },
  {
   "cell_type": "code",
   "execution_count": 9,
   "id": "8147f8d1-d251-40bc-9dc7-71fff74be5fe",
   "metadata": {},
   "outputs": [
    {
     "name": "stdout",
     "output_type": "stream",
     "text": [
      "[]\n",
      "\n"
     ]
    }
   ],
   "source": [
    "import yaml\n",
    "print(yaml.dump([plot.id for plot in plots]))"
   ]
  },
  {
   "cell_type": "markdown",
   "id": "5a97013e-d15b-427b-a011-8fb29a57eb87",
   "metadata": {},
   "source": [
    "<div class=\"alert alert-block alert-info\">\n",
    "    All model formats contain information about parameters and variables. However, most model formats, such as SBML, do not contain any information about simulations and plots.\n",
    "</div>"
   ]
  },
  {
   "cell_type": "markdown",
   "id": "15a1fbaa-dab3-42d2-9182-ceee332f4d47",
   "metadata": {},
   "source": [
    "## 6. Getting the default value of each input in its native data type"
   ]
  },
  {
   "cell_type": "markdown",
   "id": "01090bba-0ac1-4d19-88eb-de6de81c1868",
   "metadata": {},
   "source": [
    "By default, `get_parameters_variables_outputs_for_simulation` returns the default value of each simulation input as a string because the [Simulation Experiment Description Model Language (SBML)](http://sed-ml.org/) uses strings to describe the values of model changes.\n",
    "\n",
    "As illustrated below, the `native_data_types` option can be used to return the default value of each simulation input in its native data type (e.g., `bool`, `float`, `int`)."
   ]
  },
  {
   "cell_type": "code",
   "execution_count": 10,
   "id": "178d6ec7-7639-4401-8265-a495a65db882",
   "metadata": {},
   "outputs": [],
   "source": [
    "native_inputs, _, _, _ = get_parameters_variables_outputs_for_simulation(\n",
    "    model_filename='../_data/Ciliberto-J-Cell-Biol-2003-morphogenesis-checkpoint-continuous.xml',\n",
    "    model_language=ModelLanguage.SBML,\n",
    "    simulation_type=UniformTimeCourseSimulation,\n",
    "    native_data_types=True)"
   ]
  },
  {
   "cell_type": "code",
   "execution_count": 11,
   "id": "173a9912-60d3-4857-887f-99f04b028d35",
   "metadata": {},
   "outputs": [
    {
     "name": "stdout",
     "output_type": "stream",
     "text": [
      "SED-ML data type: <class 'str'>\n",
      "Native data type: <class 'float'>\n"
     ]
    }
   ],
   "source": [
    "print(f'SED-ML data type: {inputs[0].new_value.__class__}')\n",
    "print(f'Native data type: {native_inputs[0].new_value.__class__}')"
   ]
  },
  {
   "cell_type": "markdown",
   "id": "77b9f7e3-7b08-456b-a671-80655dd4f47c",
   "metadata": {},
   "source": [
    "## 7. Getting the ids and names of the model components corresponding to each simulation input and output"
   ]
  },
  {
   "cell_type": "markdown",
   "id": "86cab3c9-8872-46c4-af6c-422e9c80f5c1",
   "metadata": {},
   "source": [
    "By default, `get_parameters_variables_outputs_for_simulation` returns suggested ids and names for model changes and observables for inputs and outputs. As illustrated below, the `native_ids` option can be used to retrieve the id and name of each corresponding model element."
   ]
  },
  {
   "cell_type": "code",
   "execution_count": 12,
   "id": "11f0c884-7065-4e22-b594-813e450e2114",
   "metadata": {},
   "outputs": [],
   "source": [
    "native_inputs, _, native_outputs, _ = get_parameters_variables_outputs_for_simulation(\n",
    "    model_filename='../_data/Ciliberto-J-Cell-Biol-2003-morphogenesis-checkpoint-continuous.xml',\n",
    "    model_language=ModelLanguage.SBML,\n",
    "    simulation_type=UniformTimeCourseSimulation,\n",
    "    native_ids=True)"
   ]
  },
  {
   "cell_type": "code",
   "execution_count": 13,
   "id": "b8ab1d76-8600-4150-8cb4-575c88bf7559",
   "metadata": {},
   "outputs": [
    {
     "name": "stdout",
     "output_type": "stream",
     "text": [
      "Id of a model component that can be changed: Trim\n",
      "Suggested id for a change to this component: init_conc_species_Trim\n"
     ]
    }
   ],
   "source": [
    "print(f'Id of a model component that can be changed: {native_inputs[0].id}')\n",
    "print(f'Suggested id for a change to this component: {inputs[0].id}')"
   ]
  },
  {
   "cell_type": "code",
   "execution_count": 14,
   "id": "fd3577e1-cfd1-427b-b32a-d94030faa9f3",
   "metadata": {},
   "outputs": [
    {
     "name": "stdout",
     "output_type": "stream",
     "text": [
      "Id of a model component that can be observed: Trim\n",
      "Suggested id for an observable for the model component: dynamics_species_Trim\n"
     ]
    }
   ],
   "source": [
    "print(f'Id of a model component that can be observed: {native_outputs[1].id}')\n",
    "print(f'Suggested id for an observable for the model component: {outputs[1].id}')"
   ]
  },
  {
   "cell_type": "markdown",
   "id": "f9f35e75-e37d-4db9-805a-d3d3c074d2a6",
   "metadata": {},
   "source": [
    "<div class=\"alert alert-block alert-info\">Note, implicit outputs that are not explicitly specified in model files do not have ids.</div>"
   ]
  }
 ],
 "metadata": {
  "kernelspec": {
   "display_name": "Python 3 (ipykernel)",
   "language": "python",
   "name": "python3"
  },
  "language_info": {
   "codemirror_mode": {
    "name": "ipython",
    "version": 3
   },
   "file_extension": ".py",
   "mimetype": "text/x-python",
   "name": "python",
   "nbconvert_exporter": "python",
   "pygments_lexer": "ipython3",
   "version": "3.9.7"
  }
 },
 "nbformat": 4,
 "nbformat_minor": 5
}
